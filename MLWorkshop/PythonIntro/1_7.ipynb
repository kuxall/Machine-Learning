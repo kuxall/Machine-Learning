{
  "nbformat": 4,
  "nbformat_minor": 0,
  "metadata": {
    "kernelspec": {
      "display_name": "Python 3",
      "language": "python",
      "name": "python3"
    },
    "language_info": {
      "codemirror_mode": {
        "name": "ipython",
        "version": 3
      },
      "file_extension": ".py",
      "mimetype": "text/x-python",
      "name": "python",
      "nbconvert_exporter": "python",
      "pygments_lexer": "ipython3",
      "version": "3.6.1"
    },
    "colab": {
      "name": "1.7.ipynb",
      "provenance": []
    }
  },
  "cells": [
    {
      "cell_type": "markdown",
      "metadata": {
        "id": "07ksljDtKAHa"
      },
      "source": [
        "# Python while Loop"
      ]
    },
    {
      "cell_type": "markdown",
      "metadata": {
        "id": "2OItOHUHKAHb"
      },
      "source": [
        "The while loop in Python is used to iterate over a block of code as long as the test expression (condition) is true.\n",
        "\n"
      ]
    },
    {
      "cell_type": "markdown",
      "metadata": {
        "id": "WWLJzdWHKAHc"
      },
      "source": [
        "# Syntax:"
      ]
    },
    {
      "cell_type": "markdown",
      "metadata": {
        "id": "lnGzbA0QKAHd"
      },
      "source": [
        "    while test_expression:\n",
        "        \n",
        "        Body of while"
      ]
    },
    {
      "cell_type": "markdown",
      "metadata": {
        "id": "Ado-uFWRKAHf"
      },
      "source": [
        "The body of the loop is entered only if the test_expression evaluates to True. \n",
        "\n",
        "After one iteration, the test expression is checked again. \n",
        "\n",
        "This process continues until the test_expression evaluates to False."
      ]
    },
    {
      "cell_type": "markdown",
      "metadata": {
        "id": "x5K-OhLWKAHh"
      },
      "source": [
        "# Example"
      ]
    },
    {
      "cell_type": "code",
      "metadata": {
        "id": "hSScsfzjKAHi",
        "outputId": "22fb60e0-a6f2-48ca-d3c4-4598d0b05d31"
      },
      "source": [
        "#Find product of all numbers present in a list\n",
        "\n",
        "lst = [10, 20, 30, 40, 60]\n",
        "\n",
        "product = 1\n",
        "index = 0\n",
        "\n",
        "while index < len(lst):\n",
        "    product *= lst[index]\n",
        "    index += 1\n",
        "\n",
        "print(\"Product is: {}\".format(product))\n"
      ],
      "execution_count": null,
      "outputs": [
        {
          "output_type": "stream",
          "text": [
            "Product is: 14400000\n"
          ],
          "name": "stdout"
        }
      ]
    },
    {
      "cell_type": "code",
      "metadata": {
        "id": "NSaY9Pu3yh47",
        "colab": {
          "base_uri": "https://localhost:8080/"
        },
        "outputId": "fbd355de-9450-44fb-891b-c3a4a967f7d2"
      },
      "source": [
        "lst = [10, 20, 30, 40, 60]\n",
        "len(lst)"
      ],
      "execution_count": null,
      "outputs": [
        {
          "output_type": "execute_result",
          "data": {
            "text/plain": [
              "5"
            ]
          },
          "metadata": {
            "tags": []
          },
          "execution_count": 1
        }
      ]
    },
    {
      "cell_type": "markdown",
      "metadata": {
        "id": "yh4ZfYEbKAHm"
      },
      "source": [
        "# while Loop with else\n"
      ]
    },
    {
      "cell_type": "markdown",
      "metadata": {
        "id": "huxkWIqIKAHn"
      },
      "source": [
        "Same as that of for loop, we can have an optional else block with while loop as well.\n",
        "\n",
        "The else part is executed if the condition in the while loop evaluates to False. The while loop can be terminated with a break statement.\n",
        "\n",
        "In such case, the else part is ignored. Hence, a while loop's else part runs if no break occurs and the condition is false.\n",
        "\n"
      ]
    },
    {
      "cell_type": "code",
      "metadata": {
        "id": "mSKSiUt6KAHo",
        "colab": {
          "base_uri": "https://localhost:8080/"
        },
        "outputId": "43fc1ab3-5548-4b96-cc0e-bb54df4cacb6"
      },
      "source": [
        "numbers = [1, 2, 3,4, 5]\n",
        "\n",
        "#iterating over the list\n",
        "index = 0\n",
        "while index < len(numbers):\n",
        "    print(numbers[index])\n",
        "    index += 1\n",
        "    \n",
        "else:\n",
        "    print(\"no item left in the list\")"
      ],
      "execution_count": null,
      "outputs": [
        {
          "output_type": "stream",
          "text": [
            "1\n",
            "2\n",
            "3\n",
            "4\n",
            "5\n",
            "no item left in the list\n"
          ],
          "name": "stdout"
        }
      ]
    }
  ]
}