{
  "nbformat": 4,
  "nbformat_minor": 0,
  "metadata": {
    "kernelspec": {
      "display_name": "Python 2",
      "language": "python",
      "name": "python2"
    },
    "language_info": {
      "codemirror_mode": {
        "name": "ipython",
        "version": 2
      },
      "file_extension": ".py",
      "mimetype": "text/x-python",
      "name": "python",
      "nbconvert_exporter": "python",
      "pygments_lexer": "ipython2",
      "version": "2.7.10"
    },
    "colab": {
      "name": "1.4.ipynb",
      "provenance": []
    }
  },
  "cells": [
    {
      "cell_type": "markdown",
      "metadata": {
        "id": "llA8P9S-q_mj"
      },
      "source": [
        "# Python Input and Output"
      ]
    },
    {
      "cell_type": "markdown",
      "metadata": {
        "id": "771dBmjJq_mn"
      },
      "source": [
        "# Python Output"
      ]
    },
    {
      "cell_type": "markdown",
      "metadata": {
        "id": "EzUwUWYWq_mr"
      },
      "source": [
        "We use the print() function to output data to the standard output device"
      ]
    },
    {
      "cell_type": "code",
      "metadata": {
        "id": "OmBo99Eiq_mt",
        "colab": {
          "base_uri": "https://localhost:8080/"
        },
        "outputId": "235e625d-af52-450e-ce2b-18e543b3c031"
      },
      "source": [
        "print(\"Hello World\")"
      ],
      "execution_count": null,
      "outputs": [
        {
          "output_type": "stream",
          "text": [
            "Hello World\n"
          ],
          "name": "stdout"
        }
      ]
    },
    {
      "cell_type": "code",
      "metadata": {
        "id": "foVupZNWq_mw",
        "colab": {
          "base_uri": "https://localhost:8080/"
        },
        "outputId": "872448c4-e548-4d12-87c9-b8661631cac3"
      },
      "source": [
        "a = 10\n",
        "print(\"The value of a is\", a) #python 3\n",
        "print \"The value of a is \" + str(a)"
      ],
      "execution_count": null,
      "outputs": [
        {
          "output_type": "stream",
          "text": [
            "('The value of a is', 10)\n",
            "The value of a is 10\n"
          ],
          "name": "stdout"
        }
      ]
    },
    {
      "cell_type": "markdown",
      "metadata": {
        "id": "3UKtu3BYq_my"
      },
      "source": [
        "# Output Formatting"
      ]
    },
    {
      "cell_type": "code",
      "metadata": {
        "id": "EObbsqZQq_my",
        "colab": {
          "base_uri": "https://localhost:8080/"
        },
        "outputId": "dbc1d38d-3c70-4b91-85e6-4ac85adae084"
      },
      "source": [
        "a = 10; b = 20 #multiple statements in single line.\n",
        "\n",
        "print(\"The value of a is {} and b is {}\".format(a, b))    #default"
      ],
      "execution_count": null,
      "outputs": [
        {
          "output_type": "stream",
          "text": [
            "The value of a is 10 and b is 20\n"
          ],
          "name": "stdout"
        }
      ]
    },
    {
      "cell_type": "code",
      "metadata": {
        "id": "ORkX1xA-q_m0",
        "colab": {
          "base_uri": "https://localhost:8080/"
        },
        "outputId": "1e5d100f-0156-4957-dbd5-47d997dd0ec5"
      },
      "source": [
        "a = 10; b = 20  #multiple statements in single line\n",
        "\n",
        "print(\"The value of b is {1} and a is {0}\".format(a, b)) #specify position of arguments"
      ],
      "execution_count": null,
      "outputs": [
        {
          "output_type": "stream",
          "text": [
            "The value of b is 20 and a is 10\n"
          ],
          "name": "stdout"
        }
      ]
    },
    {
      "cell_type": "code",
      "metadata": {
        "id": "CIEkXCiNq_m2",
        "colab": {
          "base_uri": "https://localhost:8080/"
        },
        "outputId": "71aa3433-29b5-4bc1-da6a-ec7fdeb69c97"
      },
      "source": [
        "#we can use keyword arguments to format the string\n",
        "print(\"Hello {name}, {greeting}\".format(name=\"prajin\", greeting=\"Good Morning\"))"
      ],
      "execution_count": null,
      "outputs": [
        {
          "output_type": "stream",
          "text": [
            "Hello prajin, Good Morning\n"
          ],
          "name": "stdout"
        }
      ]
    },
    {
      "cell_type": "code",
      "metadata": {
        "id": "rYH4PMrIq_m3",
        "colab": {
          "base_uri": "https://localhost:8080/"
        },
        "outputId": "d9a5a291-724b-4d95-b63b-a86d7a9d47a7"
      },
      "source": [
        "#we can combine positional arguments with keyword arguments\n",
        "print('The story of {0}, {1}, and {other}'.format('Bill', 'Manfred',\n",
        "                                                       other='Georg'))"
      ],
      "execution_count": null,
      "outputs": [
        {
          "output_type": "stream",
          "text": [
            "The story of Bill, Manfred, and Georg\n"
          ],
          "name": "stdout"
        }
      ]
    },
    {
      "cell_type": "markdown",
      "metadata": {
        "id": "EZf-uz7Iq_m5"
      },
      "source": [
        "# Python Input"
      ]
    },
    {
      "cell_type": "markdown",
      "metadata": {
        "id": "ca-3JUydq_m6"
      },
      "source": [
        "want to take the input from the user. In Python, we have the input() function to allow this. "
      ]
    },
    {
      "cell_type": "code",
      "metadata": {
        "id": "WLDKcHrBq_m7"
      },
      "source": [
        "num = input(\"Enter a number: \")\n",
        "print(num)"
      ],
      "execution_count": null,
      "outputs": []
    },
    {
      "cell_type": "code",
      "metadata": {
        "id": "YJsFp_EZwC1m"
      },
      "source": [
        ""
      ],
      "execution_count": null,
      "outputs": []
    }
  ]
}