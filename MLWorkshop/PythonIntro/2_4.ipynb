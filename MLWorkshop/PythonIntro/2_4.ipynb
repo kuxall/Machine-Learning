{
  "nbformat": 4,
  "nbformat_minor": 0,
  "metadata": {
    "colab": {
      "name": "2.4.ipynb",
      "provenance": []
    },
    "kernelspec": {
      "display_name": "Python 3",
      "language": "python",
      "name": "python3"
    }
  },
  "cells": [
    {
      "cell_type": "markdown",
      "metadata": {
        "id": "RqxIugMnDy18"
      },
      "source": [
        "# Types Of Functions"
      ]
    },
    {
      "cell_type": "markdown",
      "metadata": {
        "id": "MeGY4QcFDy2B"
      },
      "source": [
        "1. Built-in Functions\n",
        "\n",
        "2. User-defined Functions"
      ]
    },
    {
      "cell_type": "markdown",
      "metadata": {
        "id": "ilt0Wb4sDy2E"
      },
      "source": [
        "# Built-in Functions"
      ]
    },
    {
      "cell_type": "markdown",
      "metadata": {
        "id": "ubtJWhwrDy2F"
      },
      "source": [
        "# 1. abs()"
      ]
    },
    {
      "cell_type": "code",
      "metadata": {
        "id": "cs7rqfNGDy2H",
        "colab": {
          "base_uri": "https://localhost:8080/"
        },
        "outputId": "9bda3946-bd95-45b7-fad8-b58ac2d2593a"
      },
      "source": [
        "# find the absolute value\n",
        "\n",
        "num = -100\n",
        "\n",
        "print(abs(num))\n"
      ],
      "execution_count": null,
      "outputs": [
        {
          "output_type": "stream",
          "text": [
            "100\n"
          ],
          "name": "stdout"
        }
      ]
    },
    {
      "cell_type": "markdown",
      "metadata": {
        "id": "Ao4an2SJDy2V"
      },
      "source": [
        "# 2. all()"
      ]
    },
    {
      "cell_type": "markdown",
      "metadata": {
        "id": "s7KNa-qjDy2X"
      },
      "source": [
        "#return value of all() function\n",
        "\n",
        "True: if all elements in an iterable are true\n",
        "\n",
        "False: if any element in an iterable is false"
      ]
    },
    {
      "cell_type": "code",
      "metadata": {
        "id": "BUYpaNxDDy2Z",
        "colab": {
          "base_uri": "https://localhost:8080/"
        },
        "outputId": "2fb17393-e179-42c9-eed6-aa3611b5c5b8"
      },
      "source": [
        "lst = [1, 2, 3, 4]\n",
        "print(all(lst)) "
      ],
      "execution_count": null,
      "outputs": [
        {
          "output_type": "stream",
          "text": [
            "True\n"
          ],
          "name": "stdout"
        }
      ]
    },
    {
      "cell_type": "code",
      "metadata": {
        "id": "PMh2XjhmDy2g",
        "colab": {
          "base_uri": "https://localhost:8080/"
        },
        "outputId": "f9a91fe9-fc91-4e99-b81e-ddb32adf6c15"
      },
      "source": [
        "lst = (0, 2, 3, 4)    # 0 present in list \n",
        "print(all(lst))\n"
      ],
      "execution_count": null,
      "outputs": [
        {
          "output_type": "stream",
          "text": [
            "False\n"
          ],
          "name": "stdout"
        }
      ]
    },
    {
      "cell_type": "code",
      "metadata": {
        "id": "A1612gmHDy2n",
        "colab": {
          "base_uri": "https://localhost:8080/"
        },
        "outputId": "24fbfd8a-8dfb-4dfe-b678-fe2fc7cc8500"
      },
      "source": [
        "lst = []              #empty list always true\n",
        "print(all(lst))\n"
      ],
      "execution_count": null,
      "outputs": [
        {
          "output_type": "stream",
          "text": [
            "True\n"
          ],
          "name": "stdout"
        }
      ]
    },
    {
      "cell_type": "code",
      "metadata": {
        "id": "EFwmHv_kDy2v",
        "colab": {
          "base_uri": "https://localhost:8080/"
        },
        "outputId": "693ab1b1-889b-4ee0-e1e2-0197e9ea5384"
      },
      "source": [
        "lst = [False, 1, 2]   #False present in a list so all(lst) is False\n",
        "print(all(lst))\n"
      ],
      "execution_count": null,
      "outputs": [
        {
          "output_type": "stream",
          "text": [
            "False\n"
          ],
          "name": "stdout"
        }
      ]
    },
    {
      "cell_type": "markdown",
      "metadata": {
        "id": "3XcOj4ahDy3A"
      },
      "source": [
        "# enumerate()"
      ]
    },
    {
      "cell_type": "markdown",
      "metadata": {
        "id": "sPGIxThfDy3C"
      },
      "source": [
        "The enumerate() method adds counter to an iterable and returns it "
      ]
    },
    {
      "cell_type": "markdown",
      "metadata": {
        "id": "PsPTJ9w3Dy3C"
      },
      "source": [
        "syntax: enumerate(iterable, start=0)"
      ]
    },
    {
      "cell_type": "code",
      "metadata": {
        "id": "LzYe1WyTDy3E",
        "colab": {
          "base_uri": "https://localhost:8080/"
        },
        "outputId": "1be31c79-6dc7-4d6b-b7b0-f4d4d6bbcb33"
      },
      "source": [
        "numbers = [10, 20, 30, 40]\n",
        "\n",
        "for index, num in enumerate(numbers, 1):\n",
        "    print(\"index {0} has value {1}\".format(index, num))\n",
        "    "
      ],
      "execution_count": null,
      "outputs": [
        {
          "output_type": "stream",
          "text": [
            "index 1 has value 10\n",
            "index 2 has value 20\n",
            "index 3 has value 30\n",
            "index 4 has value 40\n"
          ],
          "name": "stdout"
        }
      ]
    },
    {
      "cell_type": "markdown",
      "metadata": {
        "id": "PlBjfKeLDy33"
      },
      "source": [
        "# 2. User-defined Functions"
      ]
    },
    {
      "cell_type": "markdown",
      "metadata": {
        "id": "-jG1cIkIDy33"
      },
      "source": [
        "Functions that we define ourselves to do certain specific task are referred as user-defined functions"
      ]
    },
    {
      "cell_type": "markdown",
      "metadata": {
        "id": "U0R-nQZEDy35"
      },
      "source": [
        "If we use functions written by others in the form of library, it can be termed as library functions."
      ]
    },
    {
      "cell_type": "markdown",
      "metadata": {
        "id": "qnW4EEEaDy36"
      },
      "source": [
        "# Advantages"
      ]
    },
    {
      "cell_type": "markdown",
      "metadata": {
        "id": "BuTGBpe_Dy36"
      },
      "source": [
        "1. User-defined functions help to decompose a large program into small segments which makes program easy to understand, maintain and debug.\n",
        "\n",
        "2. If repeated code occurs in a program. Function can be used to include those codes and execute when needed by calling that function.\n",
        "\n",
        "3. Programmars working on large project can divide the workload by making different functions."
      ]
    },
    {
      "cell_type": "markdown",
      "metadata": {
        "id": "bchAt3KsDy37"
      },
      "source": [
        "# Example:"
      ]
    },
    {
      "cell_type": "code",
      "metadata": {
        "id": "Bl7T01heDy3-",
        "colab": {
          "base_uri": "https://localhost:8080/"
        },
        "outputId": "be2e5302-b6fd-469f-9943-83bc9936578e"
      },
      "source": [
        "def product_numbers(a, b):\n",
        "    \"\"\"\n",
        "    this function returns the product of two numbers\n",
        "    \"\"\"\n",
        "    product = a * b\n",
        "    return product\n",
        "\n",
        "num1 = 10\n",
        "num2 = 20\n",
        "print(\"product of {0} and {1} is {2} \".format(num1, num2, product_numbers(num1, num2)))"
      ],
      "execution_count": null,
      "outputs": [
        {
          "output_type": "stream",
          "text": [
            "product of 10 and 20 is 200 \n"
          ],
          "name": "stdout"
        }
      ]
    },
    {
      "cell_type": "markdown",
      "metadata": {
        "id": "3t1WqaakDy4B"
      },
      "source": [
        "# Python program to make a simple calculator that can add, subtract, multiply and division"
      ]
    },
    {
      "cell_type": "code",
      "metadata": {
        "id": "7VcPOrmLDy4E",
        "colab": {
          "base_uri": "https://localhost:8080/"
        },
        "outputId": "e0b2201b-c194-4e9f-ddd6-4a5324241a77"
      },
      "source": [
        "def add(a, b):\n",
        "    \"\"\"\n",
        "    This function adds two numbers\n",
        "    \"\"\"\n",
        "    return a + b\n",
        "\n",
        "def multiply(a, b):\n",
        "    \"\"\"\n",
        "    This function multiply two numbers\n",
        "    \"\"\"\n",
        "    return a * b\n",
        "\n",
        "def subtract(a, b):\n",
        "    \"\"\"\n",
        "    This function subtract two numbers\n",
        "    \"\"\"\n",
        "    return a - b\n",
        "\n",
        "def division(a, b):\n",
        "    \"\"\"\n",
        "    This function divides two numbers\n",
        "    \"\"\"\n",
        "    return a / b\n",
        "\n",
        "print(\"Select Option\")\n",
        "print(\"1. Addition\")\n",
        "print (\"2. Subtraction\")\n",
        "print (\"3. Multiplication\")\n",
        "print (\"4. Division\")\n",
        "\n",
        "#take input from user\n",
        "choice = int(input(\"Enter choice 1/2/3/4\"))\n",
        "\n",
        "num1 = float(input(\"Enter first number:\"))\n",
        "num2 = float(input(\"Enter second number:\"))\n",
        "if choice == 1:\n",
        "    print(\"Addition of {0} and {1} is {2}\".format(num1, num2, add(num1, num2)))\n",
        "elif choice == 2:\n",
        "    print(\"Subtraction of {0} and {1} is {2}\".format(num1, num2, subtract(num1, num2)))\n",
        "elif choice == 3:\n",
        "    print(\"Multiplication of {0} and {1} is {2}\".format(num1, num2, multiply(num1, num2)))\n",
        "elif choice == 4:\n",
        "    print(\"Division of {0} and {1} is {2}\".format(num1, num2, division(num1, num2)))\n",
        "else:\n",
        "    print(\"Invalid Choice\")"
      ],
      "execution_count": null,
      "outputs": [
        {
          "output_type": "stream",
          "text": [
            "Select Option\n",
            "1. Addition\n",
            "2. Subtraction\n",
            "3. Multiplication\n",
            "4. Division\n",
            "Enter choice 1/2/3/41\n",
            "Enter first number:2\n",
            "Enter second number:2\n",
            "Addition of 2.0 and 2.0 is 4.0\n"
          ],
          "name": "stdout"
        }
      ]
    },
    {
      "cell_type": "code",
      "metadata": {
        "id": "aQZUmO9xDy4G"
      },
      "source": [
        ""
      ],
      "execution_count": null,
      "outputs": []
    }
  ]
}