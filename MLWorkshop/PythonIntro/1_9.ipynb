{
  "nbformat": 4,
  "nbformat_minor": 0,
  "metadata": {
    "colab": {
      "name": "1.9.ipynb",
      "provenance": [],
      "collapsed_sections": []
    },
    "kernelspec": {
      "display_name": "Python 3",
      "language": "python",
      "name": "python3"
    }
  },
  "cells": [
    {
      "cell_type": "markdown",
      "metadata": {
        "id": "NdXy-T5zaAaF"
      },
      "source": [
        "# Lists"
      ]
    },
    {
      "cell_type": "markdown",
      "metadata": {
        "id": "d2abr_4DaAaG"
      },
      "source": [
        "Data Structure:\n",
        "    \n",
        "A data structure is a collection of data elements (such as numbers or characters—or even other data structures) that is structured in some way, for example, by numbering the elements. The most basic data structure in Python is the \"sequence\"."
      ]
    },
    {
      "cell_type": "markdown",
      "metadata": {
        "id": "_OkL1n_saAaI"
      },
      "source": [
        "-> List is one of the Sequence Data structure\n",
        "\n",
        "-> Lists are collection of items (Strings, integers or even other lists)\n",
        "\n",
        "-> Lists are enclosed in [ ]\n",
        "\n",
        "-> Each item in the list has an assigned index value.\n",
        "\n",
        "-> Each item in a list is separated by a comma\n",
        "\n",
        "-> Lists are mutable, which means they can be changed.\n"
      ]
    },
    {
      "cell_type": "markdown",
      "metadata": {
        "collapsed": true,
        "id": "y6E87CNkaAaI"
      },
      "source": [
        "# List Creation"
      ]
    },
    {
      "cell_type": "code",
      "metadata": {
        "id": "3xDIU3qfaAaJ",
        "colab": {
          "base_uri": "https://localhost:8080/"
        },
        "outputId": "bca72304-d9ed-4d18-dcd4-ae1bc0ab5ffb"
      },
      "source": [
        "emptyList = []\n",
        "\n",
        "lst = ['one', 'two', 'three', 'four'] # list of strings\n",
        "\n",
        "lst2 = [1, 2, 3, 4] #list of integers\n",
        "\n",
        "lst3 = [[1, 2], [3, 4]] # list of lists\n",
        "\n",
        "lst4 = [1, 'ramu', 24, 1.24] # list of different datatypes\n",
        "\n",
        "print(lst4)\n"
      ],
      "execution_count": null,
      "outputs": [
        {
          "output_type": "stream",
          "text": [
            "[1, 'ramu', 24, 1.24]\n"
          ],
          "name": "stdout"
        }
      ]
    },
    {
      "cell_type": "markdown",
      "metadata": {
        "id": "6CEa5juJaAaP"
      },
      "source": [
        "# List Length"
      ]
    },
    {
      "cell_type": "code",
      "metadata": {
        "id": "ELTxkoZAaAaQ",
        "colab": {
          "base_uri": "https://localhost:8080/"
        },
        "outputId": "b09a5208-af04-41b4-d035-f451bd063dd2"
      },
      "source": [
        "lst = ['one', 'two', 'three', 'four']\n",
        "\n",
        "print(len(lst))"
      ],
      "execution_count": null,
      "outputs": [
        {
          "output_type": "stream",
          "text": [
            "4\n"
          ],
          "name": "stdout"
        }
      ]
    },
    {
      "cell_type": "markdown",
      "metadata": {
        "id": "BWtzSHqEaAaT"
      },
      "source": [
        "# List Append"
      ]
    },
    {
      "cell_type": "code",
      "metadata": {
        "id": "lgxkiUKRaAaU",
        "colab": {
          "base_uri": "https://localhost:8080/"
        },
        "outputId": "411fb568-4450-4f0a-b886-df01d728df95"
      },
      "source": [
        "lst = ['one', 'two', 'three', 'four']\n",
        "\n",
        "lst.append('five') # append will add the item at the end\n",
        "\n",
        "print(lst)"
      ],
      "execution_count": null,
      "outputs": [
        {
          "output_type": "stream",
          "text": [
            "['one', 'two', 'three', 'four', 'five']\n"
          ],
          "name": "stdout"
        }
      ]
    },
    {
      "cell_type": "markdown",
      "metadata": {
        "id": "Yk3hugoCaAaX"
      },
      "source": [
        "# List Insert"
      ]
    },
    {
      "cell_type": "code",
      "metadata": {
        "id": "hxFmwInfaAaY",
        "colab": {
          "base_uri": "https://localhost:8080/"
        },
        "outputId": "bf6e3060-5749-4bae-9a7e-13bafe36238c"
      },
      "source": [
        "#syntax: lst.insert(x, y) \n",
        "\n",
        "lst = ['one', 'two', 'four']\n",
        "\n",
        "lst.insert(2, \"three\") # will add element y at location x\n",
        "\n",
        "print(lst)\n"
      ],
      "execution_count": null,
      "outputs": [
        {
          "output_type": "stream",
          "text": [
            "['one', 'two', 'three', 'four']\n"
          ],
          "name": "stdout"
        }
      ]
    },
    {
      "cell_type": "markdown",
      "metadata": {
        "id": "YcGKZ45BaAab"
      },
      "source": [
        "# List Remove"
      ]
    },
    {
      "cell_type": "code",
      "metadata": {
        "id": "Qz9E9r6IaAac",
        "colab": {
          "base_uri": "https://localhost:8080/"
        },
        "outputId": "9b8398e4-8403-4279-fb6d-0216eede9755"
      },
      "source": [
        "#syntax: lst.remove(x) \n",
        "\n",
        "lst = ['one', 'two', 'three', 'four', 'two']\n",
        "\n",
        "lst.remove('two') #it will remove first occurence of 'two' in a given list\n",
        "\n",
        "print(lst)"
      ],
      "execution_count": null,
      "outputs": [
        {
          "output_type": "stream",
          "text": [
            "['one', 'three', 'four', 'two']\n"
          ],
          "name": "stdout"
        }
      ]
    },
    {
      "cell_type": "markdown",
      "metadata": {
        "id": "gP3lb_hlaAai"
      },
      "source": [
        "# List Append & Extend"
      ]
    },
    {
      "cell_type": "code",
      "metadata": {
        "id": "AhQZ_S5WaAaj",
        "colab": {
          "base_uri": "https://localhost:8080/"
        },
        "outputId": "35ef5a28-b467-4f6e-b590-9c664a6313d1"
      },
      "source": [
        "lst = ['one', 'two', 'three', 'four']\n",
        "\n",
        "lst2 = ['five', 'six']\n",
        "\n",
        "#append \n",
        "lst.append(lst2)\n",
        "\n",
        "print(lst)"
      ],
      "execution_count": null,
      "outputs": [
        {
          "output_type": "stream",
          "text": [
            "['one', 'two', 'three', 'four', ['five', 'six']]\n"
          ],
          "name": "stdout"
        }
      ]
    },
    {
      "cell_type": "code",
      "metadata": {
        "id": "-eDRYerEaAan",
        "colab": {
          "base_uri": "https://localhost:8080/"
        },
        "outputId": "773e97e3-d994-45bb-f5d1-2c9ac53e509d"
      },
      "source": [
        "lst = ['one', 'two', 'three', 'four']\n",
        "\n",
        "lst2 = ['five', 'six']\n",
        "\n",
        "#extend will join the list with list1\n",
        "\n",
        "lst.extend(lst2)\n",
        "\n",
        "print(lst)"
      ],
      "execution_count": null,
      "outputs": [
        {
          "output_type": "stream",
          "text": [
            "['one', 'two', 'three', 'four', 'five', 'six']\n"
          ],
          "name": "stdout"
        }
      ]
    },
    {
      "cell_type": "markdown",
      "metadata": {
        "id": "HRsgFVblaAar"
      },
      "source": [
        "# List Delete"
      ]
    },
    {
      "cell_type": "code",
      "metadata": {
        "id": "E0TcvgzCaAas",
        "colab": {
          "base_uri": "https://localhost:8080/"
        },
        "outputId": "05abb96f-1649-4807-d836-7abc7ad08d97"
      },
      "source": [
        "#del to remove item based on index position\n",
        "\n",
        "lst = ['one', 'two', 'three', 'four', 'five']\n",
        "\n",
        "del lst[1]\n",
        "print(lst)\n",
        "\n",
        "#or we can use pop() method\n",
        "a = lst.pop(1)\n",
        "print(a)\n",
        "\n",
        "print(lst)"
      ],
      "execution_count": null,
      "outputs": [
        {
          "output_type": "stream",
          "text": [
            "['one', 'three', 'four', 'five']\n",
            "three\n",
            "['one', 'four', 'five']\n"
          ],
          "name": "stdout"
        }
      ]
    },
    {
      "cell_type": "code",
      "metadata": {
        "id": "QZy8YqvraAav",
        "colab": {
          "base_uri": "https://localhost:8080/"
        },
        "outputId": "a985317d-8772-41dd-88c5-0c27a46c363d"
      },
      "source": [
        "lst = ['one', 'two', 'three', 'four']\n",
        "\n",
        "#remove an item from list\n",
        "lst.remove('three')\n",
        "\n",
        "print(lst)"
      ],
      "execution_count": null,
      "outputs": [
        {
          "output_type": "stream",
          "text": [
            "['one', 'two', 'four']\n"
          ],
          "name": "stdout"
        }
      ]
    },
    {
      "cell_type": "markdown",
      "metadata": {
        "id": "B3taZUwqaAax"
      },
      "source": [
        "# List related keywords in Python"
      ]
    },
    {
      "cell_type": "code",
      "metadata": {
        "id": "KnvMpRFCaAay",
        "colab": {
          "base_uri": "https://localhost:8080/"
        },
        "outputId": "2596e671-145d-48ad-f3c5-4ae17b81247b"
      },
      "source": [
        "#keyword 'in' is used to test if an item is in a list\n",
        "lst = ['one', 'two', 'three', 'four']\n",
        "\n",
        "if 'two' in lst:\n",
        "    print('AI')\n",
        "\n",
        "#keyword 'not' can combined with 'in'\n",
        "if 'six' not in lst:\n",
        "    print('ML')"
      ],
      "execution_count": null,
      "outputs": [
        {
          "output_type": "stream",
          "text": [
            "AI\n",
            "ML\n"
          ],
          "name": "stdout"
        }
      ]
    },
    {
      "cell_type": "markdown",
      "metadata": {
        "id": "ikBpRbI9aAa2"
      },
      "source": [
        "# List Reverse"
      ]
    },
    {
      "cell_type": "code",
      "metadata": {
        "id": "RQqzW-mEaAa3",
        "colab": {
          "base_uri": "https://localhost:8080/"
        },
        "outputId": "cd1c7465-342a-405e-f0e8-640fb5625128"
      },
      "source": [
        "#reverse is reverses the entire list\n",
        "\n",
        "lst = ['one', 'two', 'three', 'four']\n",
        "\n",
        "lst.reverse()\n",
        "\n",
        "print(lst)"
      ],
      "execution_count": null,
      "outputs": [
        {
          "output_type": "stream",
          "text": [
            "['four', 'three', 'two', 'one']\n"
          ],
          "name": "stdout"
        }
      ]
    },
    {
      "cell_type": "markdown",
      "metadata": {
        "id": "o9lI--gRaAa7"
      },
      "source": [
        "# List Sorting"
      ]
    },
    {
      "cell_type": "markdown",
      "metadata": {
        "id": "lUTiW5mcaAa8"
      },
      "source": [
        "The easiest way to sort a List is with the sorted(list) function. \n",
        "\n",
        "That takes a list and returns a new list with those elements in sorted order. \n",
        "\n",
        "The original list is not changed. \n",
        "\n",
        "The sorted() optional argument reverse=True, e.g. sorted(list, reverse=True), \n",
        "makes it sort backwards."
      ]
    },
    {
      "cell_type": "code",
      "metadata": {
        "id": "LegBovHtaAa9",
        "colab": {
          "base_uri": "https://localhost:8080/"
        },
        "outputId": "6e3e5001-7079-415a-ab76-50fe019715a0"
      },
      "source": [
        "#create a list with numbers\n",
        "numbers = [3, 1, 6, 2, 8]\n",
        "\n",
        "sorted_lst = sorted(numbers)\n",
        "\n",
        "\n",
        "print(\"Sorted list :\", sorted_lst)\n",
        "\n",
        "#original list remain unchanged\n",
        "print(\"Original list: \", numbers)"
      ],
      "execution_count": null,
      "outputs": [
        {
          "output_type": "stream",
          "text": [
            "Sorted list : [1, 2, 3, 6, 8]\n",
            "Original list:  [3, 1, 6, 2, 8]\n"
          ],
          "name": "stdout"
        }
      ]
    },
    {
      "cell_type": "code",
      "metadata": {
        "id": "qT_4cI63aAbB",
        "colab": {
          "base_uri": "https://localhost:8080/"
        },
        "outputId": "e86e0953-18c6-46d2-efef-a98cf7cbfb3c"
      },
      "source": [
        "#print a list in reverse sorted order\n",
        "print(\"Reverse sorted list :\", sorted(numbers, reverse=True))\n",
        "\n",
        "#orginal list remain unchanged\n",
        "print(\"Original list :\",  numbers)"
      ],
      "execution_count": null,
      "outputs": [
        {
          "output_type": "stream",
          "text": [
            "Reverse sorted list : [8, 6, 3, 2, 1]\n",
            "Original list : [3, 1, 6, 2, 8]\n"
          ],
          "name": "stdout"
        }
      ]
    },
    {
      "cell_type": "code",
      "metadata": {
        "id": "7YLaz7thaAbF",
        "colab": {
          "base_uri": "https://localhost:8080/"
        },
        "outputId": "bde4fa22-a3e4-4652-93da-85a8a9ea61f1"
      },
      "source": [
        "lst = [1, 20, 5, 5, 4.2]\n",
        "\n",
        "#sort the list and stored in itself\n",
        "lst.sort()\n",
        "\n",
        "# add element 'a' to the list to show an error\n",
        "\n",
        "print(\"Sorted list: \", lst)"
      ],
      "execution_count": null,
      "outputs": [
        {
          "output_type": "stream",
          "text": [
            "Sorted list:  [1, 4.2, 5, 5, 20]\n"
          ],
          "name": "stdout"
        }
      ]
    },
    {
      "cell_type": "code",
      "metadata": {
        "id": "WfPzBE_-aAbI",
        "colab": {
          "base_uri": "https://localhost:8080/",
          "height": 184
        },
        "outputId": "b8db7337-8285-44fc-8b7d-3bacb7cdc0b7"
      },
      "source": [
        "lst = [1, 20, 'b', 5, 'a']\n",
        "print(lst.sort()) # sort list with element of different datatypes.\n"
      ],
      "execution_count": null,
      "outputs": [
        {
          "output_type": "error",
          "ename": "TypeError",
          "evalue": "ignored",
          "traceback": [
            "\u001b[0;31m---------------------------------------------------------------------------\u001b[0m",
            "\u001b[0;31mTypeError\u001b[0m                                 Traceback (most recent call last)",
            "\u001b[0;32m<ipython-input-17-0354af416f5c>\u001b[0m in \u001b[0;36m<module>\u001b[0;34m()\u001b[0m\n\u001b[1;32m      1\u001b[0m \u001b[0mlst\u001b[0m \u001b[0;34m=\u001b[0m \u001b[0;34m[\u001b[0m\u001b[0;36m1\u001b[0m\u001b[0;34m,\u001b[0m \u001b[0;36m20\u001b[0m\u001b[0;34m,\u001b[0m \u001b[0;34m'b'\u001b[0m\u001b[0;34m,\u001b[0m \u001b[0;36m5\u001b[0m\u001b[0;34m,\u001b[0m \u001b[0;34m'a'\u001b[0m\u001b[0;34m]\u001b[0m\u001b[0;34m\u001b[0m\u001b[0;34m\u001b[0m\u001b[0m\n\u001b[0;32m----> 2\u001b[0;31m \u001b[0mprint\u001b[0m\u001b[0;34m(\u001b[0m\u001b[0mlst\u001b[0m\u001b[0;34m.\u001b[0m\u001b[0msort\u001b[0m\u001b[0;34m(\u001b[0m\u001b[0;34m)\u001b[0m\u001b[0;34m)\u001b[0m \u001b[0;31m# sort list with element of different datatypes.\u001b[0m\u001b[0;34m\u001b[0m\u001b[0;34m\u001b[0m\u001b[0m\n\u001b[0m",
            "\u001b[0;31mTypeError\u001b[0m: '<' not supported between instances of 'str' and 'int'"
          ]
        }
      ]
    },
    {
      "cell_type": "markdown",
      "metadata": {
        "id": "eI34dleeaAbK"
      },
      "source": [
        "# List Having Multiple References"
      ]
    },
    {
      "cell_type": "code",
      "metadata": {
        "id": "BcmPLhR6aAbM",
        "colab": {
          "base_uri": "https://localhost:8080/"
        },
        "outputId": "c8520717-c724-4588-e47b-eca87cfb58a8"
      },
      "source": [
        "lst = [1, 2, 3, 4, 5]\n",
        "abc = lst\n",
        "abc.append(6)\n",
        "\n",
        "print(\"Original list: \", lst)"
      ],
      "execution_count": null,
      "outputs": [
        {
          "output_type": "stream",
          "text": [
            "Original list:  [1, 2, 3, 4, 5, 6]\n"
          ],
          "name": "stdout"
        }
      ]
    },
    {
      "cell_type": "markdown",
      "metadata": {
        "id": "nsmc6A1YaAbP"
      },
      "source": [
        "# String Split to create a list"
      ]
    },
    {
      "cell_type": "code",
      "metadata": {
        "scrolled": true,
        "id": "YPLVh4TjaAbP",
        "colab": {
          "base_uri": "https://localhost:8080/"
        },
        "outputId": "41e385cd-f2f6-4e9a-e065-5d439c1f3951"
      },
      "source": [
        "#let's take a string\n",
        "\n",
        "s = \"one,two,three,four,five\"\n",
        "slst = s.split(',')\n",
        "print(slst)"
      ],
      "execution_count": null,
      "outputs": [
        {
          "output_type": "stream",
          "text": [
            "['one', 'two', 'three', 'four', 'five']\n"
          ],
          "name": "stdout"
        }
      ]
    },
    {
      "cell_type": "code",
      "metadata": {
        "id": "PBYLi_UjaAbS",
        "colab": {
          "base_uri": "https://localhost:8080/"
        },
        "outputId": "f43f9cca-1447-4de1-c212-4cf43011e908"
      },
      "source": [
        "s = \"This is Machine Learning.\"\n",
        "split_lst = s.split() # default split is white-character: space or tab\n",
        "print(split_lst)"
      ],
      "execution_count": null,
      "outputs": [
        {
          "output_type": "stream",
          "text": [
            "['This', 'is', 'Machine', 'Learning.']\n"
          ],
          "name": "stdout"
        }
      ]
    },
    {
      "cell_type": "markdown",
      "metadata": {
        "id": "i0FJbejqaAbU"
      },
      "source": [
        "# List Indexing"
      ]
    },
    {
      "cell_type": "markdown",
      "metadata": {
        "id": "_ZJom4VxaAbW"
      },
      "source": [
        "Each item in the list has an assigned index value starting from 0.\n",
        "\n",
        "Accessing elements in a list is called indexing."
      ]
    },
    {
      "cell_type": "code",
      "metadata": {
        "id": "_vYi0oRbaAbW",
        "colab": {
          "base_uri": "https://localhost:8080/"
        },
        "outputId": "1826ebf6-9342-487c-8bd4-359ed8e5a51c"
      },
      "source": [
        "lst = [1, 2, 3, 4]\n",
        "print(lst[1]) #print second element\n",
        "\n",
        "#print last element using negative index\n",
        "print(lst[-2])"
      ],
      "execution_count": null,
      "outputs": [
        {
          "output_type": "stream",
          "text": [
            "2\n",
            "3\n"
          ],
          "name": "stdout"
        }
      ]
    },
    {
      "cell_type": "markdown",
      "metadata": {
        "id": "ihTfiGnGaAba"
      },
      "source": [
        "# List Slicing"
      ]
    },
    {
      "cell_type": "markdown",
      "metadata": {
        "id": "HJ6BnCxJaAba"
      },
      "source": [
        "Accessing parts of segments is called slicing. \n",
        "\n",
        "The key point to remember is that the :end value represents the first value that \n",
        "is not in the selected slice. "
      ]
    },
    {
      "cell_type": "code",
      "metadata": {
        "id": "yadzqSHAaAbc",
        "colab": {
          "base_uri": "https://localhost:8080/"
        },
        "outputId": "7380a55b-d96f-4a8f-e1ca-00fdedef5ea3"
      },
      "source": [
        "numbers = [10, 20, 30, 40, 50,60,70,80]\n",
        "\n",
        "#print all numbers\n",
        "print(numbers[:]) \n",
        "\n",
        "#print from index 0 to index 3\n",
        "print(numbers[0:4])\n"
      ],
      "execution_count": null,
      "outputs": [
        {
          "output_type": "stream",
          "text": [
            "[10, 20, 30, 40, 50, 60, 70, 80]\n",
            "[10, 20, 30, 40]\n"
          ],
          "name": "stdout"
        }
      ]
    },
    {
      "cell_type": "markdown",
      "metadata": {
        "id": "69BXgb4YaAbh"
      },
      "source": [
        "# List extend using \"+\""
      ]
    },
    {
      "cell_type": "code",
      "metadata": {
        "id": "paZsLKU7aAbh",
        "colab": {
          "base_uri": "https://localhost:8080/"
        },
        "outputId": "a623c3fe-8ad6-483d-c702-2757ef8793e1"
      },
      "source": [
        "lst1 = [1, 2, 3, 4]\n",
        "lst2 = ['varma', 'naveen', 'murali', 'brahma']\n",
        "new_lst = lst1 + lst2\n",
        "\n",
        "print(new_lst)"
      ],
      "execution_count": null,
      "outputs": [
        {
          "output_type": "stream",
          "text": [
            "[1, 2, 3, 4, 'varma', 'naveen', 'murali', 'brahma']\n"
          ],
          "name": "stdout"
        }
      ]
    },
    {
      "cell_type": "markdown",
      "metadata": {
        "id": "zR8AY0YCaAbk"
      },
      "source": [
        "# List Count"
      ]
    },
    {
      "cell_type": "code",
      "metadata": {
        "id": "xLWcn0TcaAbl",
        "colab": {
          "base_uri": "https://localhost:8080/"
        },
        "outputId": "7f33d2f5-dbf8-45c8-a382-8d847d1fe43a"
      },
      "source": [
        "numbers = [1, 2, 3, 1, 3, 4, 2, 5]\n",
        "\n",
        "#frequency of 1 in a list\n",
        "print(numbers.count(1))\n",
        "\n",
        "#frequency of 3 in a list\n",
        "print(numbers.count(3))"
      ],
      "execution_count": null,
      "outputs": [
        {
          "output_type": "stream",
          "text": [
            "2\n",
            "2\n"
          ],
          "name": "stdout"
        }
      ]
    },
    {
      "cell_type": "markdown",
      "metadata": {
        "id": "Ttuq4WbPaAbn"
      },
      "source": [
        "# List Looping"
      ]
    },
    {
      "cell_type": "code",
      "metadata": {
        "id": "gGBIUhMvaAbn",
        "colab": {
          "base_uri": "https://localhost:8080/"
        },
        "outputId": "28e4d201-c7f3-43ad-fc27-6c393ce1f8a7"
      },
      "source": [
        "lst = ['one', 'two', 'three', 'four']\n",
        "\n",
        "for ele in lst:\n",
        "    print(ele)"
      ],
      "execution_count": null,
      "outputs": [
        {
          "output_type": "stream",
          "text": [
            "one\n",
            "two\n",
            "three\n",
            "four\n"
          ],
          "name": "stdout"
        }
      ]
    },
    {
      "cell_type": "markdown",
      "metadata": {
        "id": "-EZO9D31aAbq"
      },
      "source": [
        "# List Comprehensions"
      ]
    },
    {
      "cell_type": "markdown",
      "metadata": {
        "id": "y8DXRBM_aAbq"
      },
      "source": [
        "List comprehensions provide a concise way to create lists. \n",
        "\n",
        "Common applications are to make new lists where each element is the result of some operations applied to each member of another sequence or iterable, or to create a subsequence of those elements that satisfy a certain condition."
      ]
    },
    {
      "cell_type": "code",
      "metadata": {
        "id": "-rHP7zw_aAbr",
        "colab": {
          "base_uri": "https://localhost:8080/"
        },
        "outputId": "46bcd4f0-5f18-4528-c72f-7d9c9769a9cf"
      },
      "source": [
        "# without list comprehension\n",
        "squares = []\n",
        "for i in range(10):\n",
        "    squares.append(i**2)   #list append\n",
        "print(squares)"
      ],
      "execution_count": null,
      "outputs": [
        {
          "output_type": "stream",
          "text": [
            "[0, 1, 4, 9, 16, 25, 36, 49, 64, 81]\n"
          ],
          "name": "stdout"
        }
      ]
    },
    {
      "cell_type": "code",
      "metadata": {
        "id": "CS6fvT8daAbu",
        "colab": {
          "base_uri": "https://localhost:8080/"
        },
        "outputId": "6d47b337-911f-4c78-dacd-043f82f9727f"
      },
      "source": [
        "#using list comprehension\n",
        "squares_ = [i**2 for i in range(10)]\n",
        "print(squares_)"
      ],
      "execution_count": null,
      "outputs": [
        {
          "output_type": "stream",
          "text": [
            "[0, 1, 4, 9, 16, 25, 36, 49, 64, 81]\n"
          ],
          "name": "stdout"
        }
      ]
    },
    {
      "cell_type": "code",
      "metadata": {
        "id": "N-v4Y9KDaAbw",
        "colab": {
          "base_uri": "https://localhost:8080/"
        },
        "outputId": "1854c257-a5bd-4b44-84fd-54a4ce9c3bf9"
      },
      "source": [
        "#example\n",
        "\n",
        "lst = [-10, -20, 10, 20, 50]\n",
        "\n",
        "#create a new list with values doubled\n",
        "new_lst = [i*2 for i in lst]\n",
        "print(new_lst)\n",
        "\n",
        "#filter the list to exclude negative numbers\n",
        "\n",
        "# for i in lst:\n",
        "#     if i>=0:\n",
        "#         new_lst.append(i)\n",
        "\n",
        "new_lst = [i for i in lst if i >= 0]\n",
        "print(new_lst)\n",
        "\n",
        "\n",
        "#create a list of tuples like (number, square_of_number)\n",
        "new_lst = [(i, i**2) for i in range(10)]\n",
        "print(new_lst)"
      ],
      "execution_count": null,
      "outputs": [
        {
          "output_type": "stream",
          "text": [
            "[-20, -40, 20, 40, 100]\n",
            "[10, 20, 50]\n",
            "[(0, 0), (1, 1), (2, 4), (3, 9), (4, 16), (5, 25), (6, 36), (7, 49), (8, 64), (9, 81)]\n"
          ],
          "name": "stdout"
        }
      ]
    }
  ]
}