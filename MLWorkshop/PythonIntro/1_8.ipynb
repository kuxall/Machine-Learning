{
  "nbformat": 4,
  "nbformat_minor": 0,
  "metadata": {
    "colab": {
      "name": "1.8.ipynb",
      "provenance": []
    },
    "kernelspec": {
      "display_name": "Python 3",
      "language": "python",
      "name": "python3"
    }
  },
  "cells": [
    {
      "cell_type": "markdown",
      "metadata": {
        "id": "OaeSlvRlQxZr"
      },
      "source": [
        "# Python for Loop"
      ]
    },
    {
      "cell_type": "markdown",
      "metadata": {
        "id": "mWRuZi5wQxZu"
      },
      "source": [
        "The for loop in Python is used to iterate over a sequence (list, tuple, string) or other iterable objects. \n",
        "    \n",
        "Iterating over a sequence is called traversal."
      ]
    },
    {
      "cell_type": "markdown",
      "metadata": {
        "id": "HoHdlyZkQxZx"
      },
      "source": [
        "# Syntax:"
      ]
    },
    {
      "cell_type": "markdown",
      "metadata": {
        "id": "8zrVIhSuQxZz"
      },
      "source": [
        "    for element in sequence :\n",
        "\n",
        "        Body of for"
      ]
    },
    {
      "cell_type": "markdown",
      "metadata": {
        "id": "MmQ0IYynQxZ1"
      },
      "source": [
        "Here, element is the variable that takes the value of the item inside the sequence on each iteration.\n",
        "\n",
        "Loop continues until we reach the last item in the sequence. "
      ]
    },
    {
      "cell_type": "markdown",
      "metadata": {
        "id": "OuwDO8SlQxZ6"
      },
      "source": [
        "# Example"
      ]
    },
    {
      "cell_type": "code",
      "metadata": {
        "id": "htEE3yt7QxZ8",
        "colab": {
          "base_uri": "https://localhost:8080/"
        },
        "outputId": "ea167d5e-ca7c-49f3-84ee-b2c6a3a7934c"
      },
      "source": [
        "#Find product of all numbers present in a list\n",
        "\n",
        "lst = [10, 20, 30, 40, 50]\n",
        "\n",
        "product = 1\n",
        "#iterating over the list\n",
        "for ele in lst:\n",
        "    print(type(ele))\n",
        "    product *= ele\n",
        "\n",
        "print(\"Product is: {}\".format(product))"
      ],
      "execution_count": null,
      "outputs": [
        {
          "output_type": "stream",
          "text": [
            "<class 'int'>\n",
            "<class 'int'>\n",
            "<class 'int'>\n",
            "<class 'int'>\n",
            "<class 'int'>\n",
            "Product is: 12000000\n"
          ],
          "name": "stdout"
        }
      ]
    },
    {
      "cell_type": "code",
      "metadata": {
        "id": "idb_w74Lobrp",
        "colab": {
          "base_uri": "https://localhost:8080/"
        },
        "outputId": "c9993c0f-f245-42ac-f0dc-ef43cbca8cb8"
      },
      "source": [
        "ele"
      ],
      "execution_count": null,
      "outputs": [
        {
          "output_type": "execute_result",
          "data": {
            "text/plain": [
              "50"
            ]
          },
          "metadata": {
            "tags": []
          },
          "execution_count": 2
        }
      ]
    },
    {
      "cell_type": "markdown",
      "metadata": {
        "id": "3FMtLcozQxaG"
      },
      "source": [
        "# range() function"
      ]
    },
    {
      "cell_type": "markdown",
      "metadata": {
        "id": "lVF4Vy6KQxaH"
      },
      "source": [
        "We can generate a sequence of numbers using range() function. range(10) will generate numbers from 0 to 9 (10 numbers).\n",
        "\n",
        "We can also define the start, stop and step size as range(start,stop,step size). step size defaults to 1 if not provided.\n",
        "\n",
        "This function does not store all the values in memory, it would be inefficient. So it remembers the start, stop, step size and generates the next number on the go."
      ]
    },
    {
      "cell_type": "code",
      "metadata": {
        "id": "xp3D6jNTQxaI",
        "colab": {
          "base_uri": "https://localhost:8080/"
        },
        "outputId": "846fc18a-2766-4d2e-e0a7-834330c5df91"
      },
      "source": [
        "#print range of 10\n",
        "for i in range(10):\n",
        "    print(i)"
      ],
      "execution_count": null,
      "outputs": [
        {
          "output_type": "stream",
          "text": [
            "0\n",
            "1\n",
            "2\n",
            "3\n",
            "4\n",
            "5\n",
            "6\n",
            "7\n",
            "8\n",
            "9\n"
          ],
          "name": "stdout"
        }
      ]
    },
    {
      "cell_type": "code",
      "metadata": {
        "id": "HeGUHz5BQxaN",
        "colab": {
          "base_uri": "https://localhost:8080/"
        },
        "outputId": "9ccb08f0-8188-4775-c056-38352889efd8"
      },
      "source": [
        "#print range of numbers from 1 to 20 with step size of 5\n",
        "for i in range(0, 20, 5):\n",
        "    print(i)"
      ],
      "execution_count": null,
      "outputs": [
        {
          "output_type": "stream",
          "text": [
            "0\n",
            "5\n",
            "10\n",
            "15\n"
          ],
          "name": "stdout"
        }
      ]
    },
    {
      "cell_type": "code",
      "metadata": {
        "id": "6qX7nCCEQxaQ",
        "colab": {
          "base_uri": "https://localhost:8080/"
        },
        "outputId": "a77cddae-6999-4efa-b70d-6eaa8e86b0fd"
      },
      "source": [
        "lst = [\"N\", \"E\", \"P\", \"A\", \"L\"]\n",
        "\n",
        "for ele in lst:\n",
        "    print(ele)"
      ],
      "execution_count": null,
      "outputs": [
        {
          "output_type": "stream",
          "text": [
            "N\n",
            "E\n",
            "P\n",
            "A\n",
            "L\n"
          ],
          "name": "stdout"
        }
      ]
    },
    {
      "cell_type": "markdown",
      "metadata": {
        "id": "q4hvJ3n6QxaU"
      },
      "source": [
        "# for loop with else"
      ]
    },
    {
      "cell_type": "markdown",
      "metadata": {
        "id": "tUGZf_sQQxaW"
      },
      "source": [
        "A for loop can have an optional else block as well. The else part is executed if the items in the sequence used in for loop exhausts.\n",
        "\n",
        "break statement can be used to stop a for loop. In such case, the else part is ignored.\n",
        "\n",
        "Hence, a for loop's else part runs if no break occurs."
      ]
    },
    {
      "cell_type": "code",
      "metadata": {
        "id": "j0fE1yOGQxaX",
        "colab": {
          "base_uri": "https://localhost:8080/"
        },
        "outputId": "0db3d9f9-b2de-4935-84df-b70005d2d45e"
      },
      "source": [
        "numbers = [1, 2, 3]\n",
        "\n",
        "#iterating over the list\n",
        "for item in numbers:\n",
        "    print(item)\n",
        "else:\n",
        "    print(\"no item left in the list\")"
      ],
      "execution_count": null,
      "outputs": [
        {
          "output_type": "stream",
          "text": [
            "1\n",
            "2\n",
            "3\n",
            "no item left in the list\n"
          ],
          "name": "stdout"
        }
      ]
    },
    {
      "cell_type": "code",
      "metadata": {
        "id": "FXDUZ8eaQxac",
        "colab": {
          "base_uri": "https://localhost:8080/"
        },
        "outputId": "d8446671-8337-4c6e-ff5c-842426346d3e"
      },
      "source": [
        "for item in numbers:\n",
        "    print(item)\n",
        "    if item % 2 == 0:\n",
        "        break\n",
        "else:\n",
        "    print(\"no item left in the list\")"
      ],
      "execution_count": null,
      "outputs": [
        {
          "output_type": "stream",
          "text": [
            "1\n",
            "2\n"
          ],
          "name": "stdout"
        }
      ]
    }
  ]
}