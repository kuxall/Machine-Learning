{
  "nbformat": 4,
  "nbformat_minor": 0,
  "metadata": {
    "kernelspec": {
      "display_name": "Python 2",
      "language": "python",
      "name": "python2"
    },
    "language_info": {
      "codemirror_mode": {
        "name": "ipython",
        "version": 2
      },
      "file_extension": ".py",
      "mimetype": "text/x-python",
      "name": "python",
      "nbconvert_exporter": "python",
      "pygments_lexer": "ipython2",
      "version": "2.7.10"
    },
    "colab": {
      "name": "1.3ipynb",
      "provenance": []
    }
  },
  "cells": [
    {
      "cell_type": "markdown",
      "metadata": {
        "id": "hKd6pbVWjAhO"
      },
      "source": [
        "# Variables"
      ]
    },
    {
      "cell_type": "markdown",
      "metadata": {
        "id": "Xci3KHBejAhQ"
      },
      "source": [
        "A variable is a location in memory used to store some data (value).\n",
        "\n",
        "They are given unique names to differentiate between different memory locations. The rules for writing a variable name is same as the rules for writing identifiers in Python.\n",
        "\n",
        "We don't need to declare a variable before using it. In Python, we simply assign a value to a variable and it will exist. We don't even have to declare the type of the variable. This is handled internally according to the type of value we assign to the variable."
      ]
    },
    {
      "cell_type": "markdown",
      "metadata": {
        "id": "X0eXBbyQjAhS"
      },
      "source": [
        "# Variable Assignments"
      ]
    },
    {
      "cell_type": "code",
      "metadata": {
        "id": "EmLqQ8LdjAhT"
      },
      "source": [
        "#We use the assignment operator (=) to assign values to a variable\n",
        "\n",
        "a = 10\n",
        "b = 5.5\n",
        "c = \"ML\""
      ],
      "execution_count": null,
      "outputs": []
    },
    {
      "cell_type": "markdown",
      "metadata": {
        "id": "OmSXAyFWjAhZ"
      },
      "source": [
        "# Multiple Assignments"
      ]
    },
    {
      "cell_type": "code",
      "metadata": {
        "id": "TSdYQvngjAha"
      },
      "source": [
        "a, b, c = 10, 5.5, \"ML\""
      ],
      "execution_count": null,
      "outputs": []
    },
    {
      "cell_type": "code",
      "metadata": {
        "id": "k4uwhrsojAhe"
      },
      "source": [
        "a = b = c = \"AI\" #assign the same value to multiple variables at once"
      ],
      "execution_count": null,
      "outputs": []
    },
    {
      "cell_type": "markdown",
      "metadata": {
        "id": "LoRDnRcAjAhh"
      },
      "source": [
        "# Storage Locations"
      ]
    },
    {
      "cell_type": "code",
      "metadata": {
        "id": "N18ORoyqjAhi",
        "colab": {
          "base_uri": "https://localhost:8080/"
        },
        "outputId": "e73f3b60-b548-4b2d-cbf9-1435d35edde1"
      },
      "source": [
        "x = 3\n",
        "\n",
        "print(id(x))               #print address of variable x"
      ],
      "execution_count": null,
      "outputs": [
        {
          "output_type": "stream",
          "text": [
            "94078366705416\n"
          ],
          "name": "stdout"
        }
      ]
    },
    {
      "cell_type": "code",
      "metadata": {
        "id": "DzXApOnYjAhq",
        "colab": {
          "base_uri": "https://localhost:8080/"
        },
        "outputId": "122985aa-1384-4b60-df94-8035995d35b0"
      },
      "source": [
        "y = 3\n",
        "\n",
        "print(id(y))               #print address of variable y"
      ],
      "execution_count": null,
      "outputs": [
        {
          "output_type": "stream",
          "text": [
            "94078366705416\n"
          ],
          "name": "stdout"
        }
      ]
    },
    {
      "cell_type": "markdown",
      "metadata": {
        "id": "OJ2zfFRCjAhu"
      },
      "source": [
        "Observation:\n",
        "\n",
        "x and y points to same memory location\n",
        "    "
      ]
    },
    {
      "cell_type": "code",
      "metadata": {
        "id": "TmRjWWdkjAhv",
        "colab": {
          "base_uri": "https://localhost:8080/"
        },
        "outputId": "b19759c3-c159-4532-fa93-f1950980e4da"
      },
      "source": [
        "y = 2\n",
        "print(id(y))               #print address of variable y"
      ],
      "execution_count": null,
      "outputs": [
        {
          "output_type": "stream",
          "text": [
            "94078366705440\n"
          ],
          "name": "stdout"
        }
      ]
    },
    {
      "cell_type": "markdown",
      "metadata": {
        "id": "8HgZqTvSjAh0"
      },
      "source": [
        "# Data Types "
      ]
    },
    {
      "cell_type": "markdown",
      "metadata": {
        "id": "ts-W3G1DjAh3"
      },
      "source": [
        "Every value in Python has a datatype. Since everything is an object in Python programming, data types are actually classes and variables are instance (object) of these classes."
      ]
    },
    {
      "cell_type": "markdown",
      "metadata": {
        "id": "lUrSkm7UjAh4"
      },
      "source": [
        "# Numbers"
      ]
    },
    {
      "cell_type": "markdown",
      "metadata": {
        "id": "H4_fLR0BjAiP"
      },
      "source": [
        "Integers, floating point numbers and complex numbers falls under Python numbers category. They are defined as int, float and complex class in Python.\n",
        "\n",
        "We can use the type() function to know which class a variable or a value belongs to and the isinstance() function to check if an object belongs to a particular class."
      ]
    },
    {
      "cell_type": "code",
      "metadata": {
        "id": "WwLgel3TjAiR",
        "colab": {
          "base_uri": "https://localhost:8080/"
        },
        "outputId": "656ce160-be22-49e5-88b1-bce0dec5271a"
      },
      "source": [
        "a = 5                               # data type is implicitly set to integer\n",
        "print(a, \" is of type\", type(a))"
      ],
      "execution_count": null,
      "outputs": [
        {
          "output_type": "stream",
          "text": [
            "(5, ' is of type', <type 'int'>)\n"
          ],
          "name": "stdout"
        }
      ]
    },
    {
      "cell_type": "code",
      "metadata": {
        "id": "VFmFyuKljAiY",
        "colab": {
          "base_uri": "https://localhost:8080/"
        },
        "outputId": "7db75eca-5aa8-418c-d1d3-f9f9d7678d43"
      },
      "source": [
        "a = 2.5                            #data type is changed to float\n",
        "print(a, \" is of type\", type(a))"
      ],
      "execution_count": null,
      "outputs": [
        {
          "output_type": "stream",
          "text": [
            "(2.5, ' is of type', <type 'float'>)\n"
          ],
          "name": "stdout"
        }
      ]
    },
    {
      "cell_type": "code",
      "metadata": {
        "id": "ylZA0ZPzjAig",
        "colab": {
          "base_uri": "https://localhost:8080/"
        },
        "outputId": "31014535-b87d-49b8-8112-b8db16971c48"
      },
      "source": [
        "a = 1 + 2j                          #data type is changed to complex number\n",
        "print(a, \" is complex number?\") \n",
        "print(isinstance(1+2j, complex))"
      ],
      "execution_count": null,
      "outputs": [
        {
          "output_type": "stream",
          "text": [
            "((1+2j), ' is complex number?')\n",
            "True\n"
          ],
          "name": "stdout"
        }
      ]
    },
    {
      "cell_type": "markdown",
      "metadata": {
        "id": "OzdVm2D-jAim"
      },
      "source": [
        "# Boolean"
      ]
    },
    {
      "cell_type": "markdown",
      "metadata": {
        "id": "JDaSahNgjAio"
      },
      "source": [
        " Boolean represents the truth values False and True"
      ]
    },
    {
      "cell_type": "code",
      "metadata": {
        "id": "QcWk4rwnjAip",
        "colab": {
          "base_uri": "https://localhost:8080/"
        },
        "outputId": "237baf8b-ecbe-48be-a6c7-b2f75ca70793"
      },
      "source": [
        "a = True                          #a is a boolean type\n",
        "print(type(a))"
      ],
      "execution_count": null,
      "outputs": [
        {
          "output_type": "stream",
          "text": [
            "<type 'bool'>\n"
          ],
          "name": "stdout"
        }
      ]
    },
    {
      "cell_type": "markdown",
      "metadata": {
        "id": "FlyZKNjVjAiz"
      },
      "source": [
        "# Python Strings"
      ]
    },
    {
      "cell_type": "markdown",
      "metadata": {
        "id": "by_In521jAjD"
      },
      "source": [
        "String is sequence of Unicode characters. \n",
        "\n",
        "We can use single quotes or double quotes to represent strings. \n",
        "\n",
        "Multi-line strings can be denoted using triple quotes, ''' or \"\"\"."
      ]
    },
    {
      "cell_type": "markdown",
      "metadata": {
        "id": "A8ER_dyljAjE"
      },
      "source": [
        "A string in Python consists of a series or sequence of characters - letters, numbers, and special characters. \n",
        "\n",
        "Strings can be indexed - often synonymously called subscripted as well. \n",
        "\n",
        "Similar to C, the first character of a string has the index 0."
      ]
    },
    {
      "cell_type": "code",
      "metadata": {
        "id": "1gMkenFmjAjF",
        "colab": {
          "base_uri": "https://localhost:8080/"
        },
        "outputId": "650383af-fab4-4f1c-a987-89f1583461d0"
      },
      "source": [
        "s = \"This is string\"\n",
        "print(s)"
      ],
      "execution_count": null,
      "outputs": [
        {
          "output_type": "stream",
          "text": [
            "This is string\n"
          ],
          "name": "stdout"
        }
      ]
    },
    {
      "cell_type": "code",
      "metadata": {
        "id": "Pcf-sZ_UjAjM",
        "colab": {
          "base_uri": "https://localhost:8080/"
        },
        "outputId": "8e24323a-5762-4ec4-a267-a8c1ca4ad01e"
      },
      "source": [
        "print(s[0])\n"
      ],
      "execution_count": null,
      "outputs": [
        {
          "output_type": "stream",
          "text": [
            "T\n"
          ],
          "name": "stdout"
        }
      ]
    },
    {
      "cell_type": "code",
      "metadata": {
        "id": "ajug377XjAjR",
        "colab": {
          "base_uri": "https://localhost:8080/",
          "height": 35
        },
        "outputId": "a5010935-4e0a-4ab6-cf4b-a0a0748e759a"
      },
      "source": [
        "#slicing\n",
        "s[5:]"
      ],
      "execution_count": null,
      "outputs": [
        {
          "output_type": "execute_result",
          "data": {
            "application/vnd.google.colaboratory.intrinsic+json": {
              "type": "string"
            },
            "text/plain": [
              "'is string'"
            ]
          },
          "metadata": {
            "tags": []
          },
          "execution_count": 22
        }
      ]
    },
    {
      "cell_type": "markdown",
      "metadata": {
        "id": "q8EfPYofjAjX"
      },
      "source": [
        "# Python List"
      ]
    },
    {
      "cell_type": "markdown",
      "metadata": {
        "id": "HmvLG9uqjAjY"
      },
      "source": [
        "List is an ordered sequence of items. It is one of the most used datatype in Python and is very flexible. All the items in a list do not need to be of the same type.\n",
        "\n",
        "Declaring a list is , Items separated by commas are enclosed within brackets [ ]."
      ]
    },
    {
      "cell_type": "code",
      "metadata": {
        "id": "-5ZyYAWPjAjZ",
        "colab": {
          "base_uri": "https://localhost:8080/"
        },
        "outputId": "2f6d081f-1a1e-49e5-a606-06fcc7de4a6c"
      },
      "source": [
        "a = [10, 20.5, \"Hello\"]\n",
        "print(a[1])             "
      ],
      "execution_count": null,
      "outputs": [
        {
          "output_type": "stream",
          "text": [
            "20.5\n"
          ],
          "name": "stdout"
        }
      ]
    },
    {
      "cell_type": "markdown",
      "metadata": {
        "id": "RxDNwaW9jAjd"
      },
      "source": [
        "Lists are mutable, meaning, value of elements of a list can be altered."
      ]
    },
    {
      "cell_type": "code",
      "metadata": {
        "id": "JqjN61NijAji",
        "colab": {
          "base_uri": "https://localhost:8080/"
        },
        "outputId": "97d603d6-3c82-4f2b-a07d-bf670caf7443"
      },
      "source": [
        "a[1] = 30.7\n",
        "print(a)"
      ],
      "execution_count": null,
      "outputs": [
        {
          "output_type": "stream",
          "text": [
            "[10, 30.7, 'Hello']\n"
          ],
          "name": "stdout"
        }
      ]
    },
    {
      "cell_type": "markdown",
      "metadata": {
        "id": "1z43evhgjAjm"
      },
      "source": [
        "# Python Tuple"
      ]
    },
    {
      "cell_type": "markdown",
      "metadata": {
        "id": "hl-DNjIKjAjn"
      },
      "source": [
        "Tuple is an ordered sequence of items same as list.The only difference is that tuples are immutable. Tuples once created cannot be modified."
      ]
    },
    {
      "cell_type": "code",
      "metadata": {
        "id": "FtTKigm4jAjn"
      },
      "source": [
        "t = (1, 1.5, \"ML\")"
      ],
      "execution_count": null,
      "outputs": []
    },
    {
      "cell_type": "code",
      "metadata": {
        "id": "FXwePsUjjAjs",
        "colab": {
          "base_uri": "https://localhost:8080/"
        },
        "outputId": "5527a4c8-e2b2-4ef5-ead3-6622eef84f74"
      },
      "source": [
        "print(t[1]) #extract particular element"
      ],
      "execution_count": null,
      "outputs": [
        {
          "output_type": "stream",
          "text": [
            "1.5\n"
          ],
          "name": "stdout"
        }
      ]
    },
    {
      "cell_type": "code",
      "metadata": {
        "id": "HcmgwUWvjAjv",
        "colab": {
          "base_uri": "https://localhost:8080/",
          "height": 167
        },
        "outputId": "555df455-69a1-438a-9cca-faa2c30bfbcc"
      },
      "source": [
        "t[1] = 1.25"
      ],
      "execution_count": null,
      "outputs": [
        {
          "output_type": "error",
          "ename": "TypeError",
          "evalue": "ignored",
          "traceback": [
            "\u001b[0;31m\u001b[0m",
            "\u001b[0;31mTypeError\u001b[0mTraceback (most recent call last)",
            "\u001b[0;32m<ipython-input-27-826a3e5c5c91>\u001b[0m in \u001b[0;36m<module>\u001b[0;34m()\u001b[0m\n\u001b[0;32m----> 1\u001b[0;31m \u001b[0mt\u001b[0m\u001b[0;34m[\u001b[0m\u001b[0;36m1\u001b[0m\u001b[0;34m]\u001b[0m \u001b[0;34m=\u001b[0m \u001b[0;36m1.25\u001b[0m\u001b[0;34m\u001b[0m\u001b[0m\n\u001b[0m",
            "\u001b[0;31mTypeError\u001b[0m: 'tuple' object does not support item assignment"
          ]
        }
      ]
    },
    {
      "cell_type": "markdown",
      "metadata": {
        "id": "RUTK-g6rjAjz"
      },
      "source": [
        "# Python Set"
      ]
    },
    {
      "cell_type": "markdown",
      "metadata": {
        "id": "J8pDiqs1jAjz"
      },
      "source": [
        "Set is an unordered collection of unique items. Set is defined by values separated by comma inside braces { }. Items in a set are not ordered."
      ]
    },
    {
      "cell_type": "code",
      "metadata": {
        "id": "Pa8_taUijAj0",
        "colab": {
          "base_uri": "https://localhost:8080/"
        },
        "outputId": "550bb210-c8b4-4429-ecfc-f5851d312ea3"
      },
      "source": [
        "a = {10, 30, 20, 40, 5}\n",
        "print(a)"
      ],
      "execution_count": null,
      "outputs": [
        {
          "output_type": "stream",
          "text": [
            "set([40, 10, 20, 5, 30])\n"
          ],
          "name": "stdout"
        }
      ]
    },
    {
      "cell_type": "code",
      "metadata": {
        "id": "IvCOBoJsjAj4",
        "colab": {
          "base_uri": "https://localhost:8080/"
        },
        "outputId": "81a88c39-a370-4a99-bebc-c36ab2555e47"
      },
      "source": [
        "print(type(a))             #print type of a"
      ],
      "execution_count": null,
      "outputs": [
        {
          "output_type": "stream",
          "text": [
            "<type 'set'>\n"
          ],
          "name": "stdout"
        }
      ]
    },
    {
      "cell_type": "markdown",
      "metadata": {
        "id": "-REyz-C-jAj8"
      },
      "source": [
        "We can perform set operations like union, intersection on two sets. Set have unique values."
      ]
    },
    {
      "cell_type": "code",
      "metadata": {
        "id": "1PYDi3VRjAj8",
        "colab": {
          "base_uri": "https://localhost:8080/"
        },
        "outputId": "386ff531-1ef7-4139-f848-d5bd0e25cd20"
      },
      "source": [
        "s = {10, 20, 20, 30, 30, 30}\n",
        "print(s)                    #automatically set won't consider duplicate elements"
      ],
      "execution_count": null,
      "outputs": [
        {
          "output_type": "stream",
          "text": [
            "set([10, 20, 30])\n"
          ],
          "name": "stdout"
        }
      ]
    },
    {
      "cell_type": "code",
      "metadata": {
        "id": "8gA4UANbjAkA",
        "colab": {
          "base_uri": "https://localhost:8080/",
          "height": 184
        },
        "outputId": "9ca0ce34-6454-42ef-b9db-08f9d7e8e482"
      },
      "source": [
        "print(s[1]) #we can't print particular element in set because \n",
        "            #it's unorder collections of items"
      ],
      "execution_count": null,
      "outputs": [
        {
          "output_type": "error",
          "ename": "TypeError",
          "evalue": "ignored",
          "traceback": [
            "\u001b[0;31m\u001b[0m",
            "\u001b[0;31mTypeError\u001b[0mTraceback (most recent call last)",
            "\u001b[0;32m<ipython-input-33-3e2f312e6983>\u001b[0m in \u001b[0;36m<module>\u001b[0;34m()\u001b[0m\n\u001b[0;32m----> 1\u001b[0;31m \u001b[0;32mprint\u001b[0m\u001b[0;34m(\u001b[0m\u001b[0ms\u001b[0m\u001b[0;34m[\u001b[0m\u001b[0;36m1\u001b[0m\u001b[0;34m]\u001b[0m\u001b[0;34m)\u001b[0m \u001b[0;31m#we can't print particular element in set because\u001b[0m\u001b[0;34m\u001b[0m\u001b[0m\n\u001b[0m\u001b[1;32m      2\u001b[0m             \u001b[0;31m#it's unorder collections of items\u001b[0m\u001b[0;34m\u001b[0m\u001b[0;34m\u001b[0m\u001b[0m\n",
            "\u001b[0;31mTypeError\u001b[0m: 'set' object does not support indexing"
          ]
        }
      ]
    },
    {
      "cell_type": "markdown",
      "metadata": {
        "id": "qcVbqDR0jAkE"
      },
      "source": [
        "# Python Dictionary"
      ]
    },
    {
      "cell_type": "markdown",
      "metadata": {
        "id": "W0R99yybjAkF"
      },
      "source": [
        "Dictionary is an unordered collection of key-value pairs."
      ]
    },
    {
      "cell_type": "markdown",
      "metadata": {
        "id": "xojDNh_ujAkG"
      },
      "source": [
        "In Python, dictionaries are defined within braces {} with each item being a pair in the form key:value. Key and value can be of any type."
      ]
    },
    {
      "cell_type": "code",
      "metadata": {
        "id": "2T9I2fD_jAkG",
        "colab": {
          "base_uri": "https://localhost:8080/"
        },
        "outputId": "bfd200f9-035d-45e8-dc61-2217fc4eb6b9"
      },
      "source": [
        "d = {'a': \"apple\", 'b': \"bat\"}\n",
        "print d['a']"
      ],
      "execution_count": null,
      "outputs": [
        {
          "output_type": "stream",
          "text": [
            "apple\n"
          ],
          "name": "stdout"
        }
      ]
    },
    {
      "cell_type": "markdown",
      "metadata": {
        "id": "VAFPibx4jAkK"
      },
      "source": [
        "# Conversion between Datatypes"
      ]
    },
    {
      "cell_type": "markdown",
      "metadata": {
        "id": "Gr9LdKwUjAkK"
      },
      "source": [
        "We can convert between different data types by using different type conversion functions like int(), float(), str() etc."
      ]
    },
    {
      "cell_type": "code",
      "metadata": {
        "id": "C7Hm3GjUjAkL",
        "colab": {
          "base_uri": "https://localhost:8080/"
        },
        "outputId": "119cc972-9d9c-4d4c-9b82-29eb5caa2ec2"
      },
      "source": [
        "float(5)     #convert interger to float using float() method"
      ],
      "execution_count": null,
      "outputs": [
        {
          "output_type": "execute_result",
          "data": {
            "text/plain": [
              "5.0"
            ]
          },
          "metadata": {
            "tags": []
          },
          "execution_count": 35
        }
      ]
    },
    {
      "cell_type": "code",
      "metadata": {
        "id": "qOQdGOo9jAkO",
        "colab": {
          "base_uri": "https://localhost:8080/"
        },
        "outputId": "0fb0fc95-95e5-4c7e-d22d-0930b8028799"
      },
      "source": [
        "int(100.5)   #convert float to integer using int() method"
      ],
      "execution_count": null,
      "outputs": [
        {
          "output_type": "execute_result",
          "data": {
            "text/plain": [
              "100"
            ]
          },
          "metadata": {
            "tags": []
          },
          "execution_count": 36
        }
      ]
    },
    {
      "cell_type": "code",
      "metadata": {
        "id": "j_YHvzHjjAkR",
        "colab": {
          "base_uri": "https://localhost:8080/",
          "height": 35
        },
        "outputId": "19507cee-5481-4f23-e3d0-37a1268855c9"
      },
      "source": [
        "str(20)      #convert integer to string"
      ],
      "execution_count": null,
      "outputs": [
        {
          "output_type": "execute_result",
          "data": {
            "application/vnd.google.colaboratory.intrinsic+json": {
              "type": "string"
            },
            "text/plain": [
              "'20'"
            ]
          },
          "metadata": {
            "tags": []
          },
          "execution_count": 37
        }
      ]
    },
    {
      "cell_type": "markdown",
      "metadata": {
        "id": "fQlmdkWZjAkV"
      },
      "source": [
        "Conversion to and from string must contain compatible values."
      ]
    },
    {
      "cell_type": "code",
      "metadata": {
        "id": "rmZTUGvNjAkW",
        "colab": {
          "base_uri": "https://localhost:8080/",
          "height": 167
        },
        "outputId": "c58bcdc7-c983-4df6-982d-0ff1b97ad7d9"
      },
      "source": [
        "int('10p')"
      ],
      "execution_count": null,
      "outputs": [
        {
          "output_type": "error",
          "ename": "ValueError",
          "evalue": "ignored",
          "traceback": [
            "\u001b[0;31m\u001b[0m",
            "\u001b[0;31mValueError\u001b[0mTraceback (most recent call last)",
            "\u001b[0;32m<ipython-input-40-8bb83f613c14>\u001b[0m in \u001b[0;36m<module>\u001b[0;34m()\u001b[0m\n\u001b[0;32m----> 1\u001b[0;31m \u001b[0mint\u001b[0m\u001b[0;34m(\u001b[0m\u001b[0;34m'10p'\u001b[0m\u001b[0;34m)\u001b[0m\u001b[0;34m\u001b[0m\u001b[0m\n\u001b[0m",
            "\u001b[0;31mValueError\u001b[0m: invalid literal for int() with base 10: '10p'"
          ]
        }
      ]
    },
    {
      "cell_type": "code",
      "metadata": {
        "id": "ySebSJL4jAka",
        "colab": {
          "base_uri": "https://localhost:8080/"
        },
        "outputId": "6106af9d-8a05-46c9-82a0-583507ecef22"
      },
      "source": [
        "user = \"user\"\n",
        "lines = 100\n",
        "\n",
        "print(\"Congratulations, \" + user + \"! You just wrote \" + str(lines) + \" lines of code\" )\n",
        "#remove str and gives error"
      ],
      "execution_count": null,
      "outputs": [
        {
          "output_type": "stream",
          "text": [
            "Congratulations, user! You just wrote 100 lines of code\n"
          ],
          "name": "stdout"
        }
      ]
    },
    {
      "cell_type": "markdown",
      "metadata": {
        "id": "b70t71oHjAke"
      },
      "source": [
        "We can convert one sequence to other"
      ]
    },
    {
      "cell_type": "code",
      "metadata": {
        "id": "X8JVo21VjAkf",
        "colab": {
          "base_uri": "https://localhost:8080/"
        },
        "outputId": "e3034a17-f560-4b78-e32d-74d5199fbbf7"
      },
      "source": [
        "a = [1, 2, 3]\n",
        "\n",
        "print(type(a))      #type of a is list \n",
        "\n",
        "s = set(a)          #convert list to set using set() method\n",
        "\n",
        "print(type(s))      #now type of s is set"
      ],
      "execution_count": null,
      "outputs": [
        {
          "output_type": "stream",
          "text": [
            "<type 'list'>\n",
            "<type 'set'>\n"
          ],
          "name": "stdout"
        }
      ]
    },
    {
      "cell_type": "code",
      "metadata": {
        "id": "_Uhx5L4AjAkm",
        "colab": {
          "base_uri": "https://localhost:8080/"
        },
        "outputId": "9fee3741-3e3c-40a0-d5f8-04066d455021"
      },
      "source": [
        "list(\"Hello\")       #convert String to list using list() method"
      ],
      "execution_count": null,
      "outputs": [
        {
          "output_type": "execute_result",
          "data": {
            "text/plain": [
              "['H', 'e', 'l', 'l', 'o']"
            ]
          },
          "metadata": {
            "tags": []
          },
          "execution_count": 43
        }
      ]
    },
    {
      "cell_type": "code",
      "metadata": {
        "id": "eYYepOcVvyjc"
      },
      "source": [
        ""
      ],
      "execution_count": null,
      "outputs": []
    }
  ]
}