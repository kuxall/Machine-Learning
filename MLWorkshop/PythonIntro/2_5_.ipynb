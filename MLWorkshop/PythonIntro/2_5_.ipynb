{
  "nbformat": 4,
  "nbformat_minor": 0,
  "metadata": {
    "kernelspec": {
      "display_name": "Python 3",
      "language": "python",
      "name": "python3"
    },
    "language_info": {
      "codemirror_mode": {
        "name": "ipython",
        "version": 3
      },
      "file_extension": ".py",
      "mimetype": "text/x-python",
      "name": "python",
      "nbconvert_exporter": "python",
      "pygments_lexer": "ipython3",
      "version": "3.6.1"
    },
    "colab": {
      "name": "2.5..ipynb",
      "provenance": []
    }
  },
  "cells": [
    {
      "cell_type": "markdown",
      "metadata": {
        "id": "xkpauDXqJRw3"
      },
      "source": [
        "# Function Arguments\n"
      ]
    },
    {
      "cell_type": "code",
      "metadata": {
        "id": "AbKNcisrJRxJ",
        "colab": {
          "base_uri": "https://localhost:8080/"
        },
        "outputId": "9c743155-348d-4873-9520-7708a04467e5"
      },
      "source": [
        "def greet(name, msg):\n",
        "    \"\"\"\n",
        "    This function greets to person with the provided message\n",
        "    \"\"\"\n",
        "    print(\"Hello {0} , {1}\".format(name, msg))\n",
        "\n",
        "#call the function with arguments\n",
        "greet(\"satish\", \"Good Morning\")\n"
      ],
      "execution_count": null,
      "outputs": [
        {
          "output_type": "stream",
          "text": [
            "Hello satish , Good Morning\n"
          ],
          "name": "stdout"
        }
      ]
    },
    {
      "cell_type": "code",
      "metadata": {
        "id": "DdftwAr7JRxN",
        "colab": {
          "base_uri": "https://localhost:8080/",
          "height": 201
        },
        "outputId": "128ec70d-6896-4755-ef7c-39a2b833ec64"
      },
      "source": [
        "#suppose if we pass one argument\n",
        "\n",
        "greet(\"satish\") #will get an error\n"
      ],
      "execution_count": null,
      "outputs": [
        {
          "output_type": "error",
          "ename": "TypeError",
          "evalue": "ignored",
          "traceback": [
            "\u001b[0;31m---------------------------------------------------------------------------\u001b[0m",
            "\u001b[0;31mTypeError\u001b[0m                                 Traceback (most recent call last)",
            "\u001b[0;32m<ipython-input-2-127a26d9baa0>\u001b[0m in \u001b[0;36m<module>\u001b[0;34m()\u001b[0m\n\u001b[1;32m      1\u001b[0m \u001b[0;31m#suppose if we pass one argument\u001b[0m\u001b[0;34m\u001b[0m\u001b[0;34m\u001b[0m\u001b[0;34m\u001b[0m\u001b[0m\n\u001b[1;32m      2\u001b[0m \u001b[0;34m\u001b[0m\u001b[0m\n\u001b[0;32m----> 3\u001b[0;31m \u001b[0mgreet\u001b[0m\u001b[0;34m(\u001b[0m\u001b[0;34m\"satish\"\u001b[0m\u001b[0;34m)\u001b[0m \u001b[0;31m#will get an error\u001b[0m\u001b[0;34m\u001b[0m\u001b[0;34m\u001b[0m\u001b[0m\n\u001b[0m",
            "\u001b[0;31mTypeError\u001b[0m: greet() missing 1 required positional argument: 'msg'"
          ]
        }
      ]
    },
    {
      "cell_type": "markdown",
      "metadata": {
        "id": "BzHHwgCdJRxP"
      },
      "source": [
        "# Different Forms of Arguments"
      ]
    },
    {
      "cell_type": "markdown",
      "metadata": {
        "id": "CksOvu0JJRxQ"
      },
      "source": [
        "# 1. Default Arguments"
      ]
    },
    {
      "cell_type": "markdown",
      "metadata": {
        "id": "T23E9xJoJRxQ"
      },
      "source": [
        "We can provide a default value to an argument by using the assignment operator (=). "
      ]
    },
    {
      "cell_type": "code",
      "metadata": {
        "id": "CFAS8GZ7JRxR",
        "colab": {
          "base_uri": "https://localhost:8080/"
        },
        "outputId": "dca1794d-7d59-4e4a-86f4-708798fc594c"
      },
      "source": [
        "def greet(name, msg=\"Good Morning\"):\n",
        "    \"\"\"\n",
        "    This function greets to person with the provided message\n",
        "    if message is not provided, it defaults to \"Good Morning\"\n",
        "    \"\"\"\n",
        "    print(\"Hello {0} , {1}\".format(name, msg))\n",
        "\n",
        "greet(\"satish\", \"Good Night\")\n",
        "greet(\"satish\")\n",
        "\n"
      ],
      "execution_count": null,
      "outputs": [
        {
          "output_type": "stream",
          "text": [
            "Hello satish , Good Night\n",
            "Hello satish , Good Morning\n"
          ],
          "name": "stdout"
        }
      ]
    },
    {
      "cell_type": "markdown",
      "metadata": {
        "id": "WDX2OrUKJRxV"
      },
      "source": [
        "# 2. Keyword Arguments"
      ]
    },
    {
      "cell_type": "markdown",
      "metadata": {
        "id": "Rt7Wjjk5JRxW"
      },
      "source": [
        "kwargs allows you to pass keyworded variable length of arguments to a function. You should use **kwargs if you want to handle named arguments in a function"
      ]
    },
    {
      "cell_type": "markdown",
      "metadata": {
        "id": "dSfi0ixQJRxW"
      },
      "source": [
        "# Example:"
      ]
    },
    {
      "cell_type": "code",
      "metadata": {
        "id": "hAyL0iPrJRxX",
        "colab": {
          "base_uri": "https://localhost:8080/"
        },
        "outputId": "45d2951c-2e3b-430a-8b9d-2fb9027246ea"
      },
      "source": [
        "def greet(**kwargs):\n",
        "    \"\"\"\n",
        "    This function greets to person with the provided message\n",
        "    \"\"\"\n",
        "    if kwargs:\n",
        "        print(\"Hello {0} , {1}\".format(kwargs['name'], kwargs['msg']))\n",
        "greet(name=\"satish\", msg=\"Good Morning\", grett= 'No Greeting')\n",
        "\n",
        "greet(name=\"satish\", msg=\"Good Morning\", grett= 'No Greeting')\n"
      ],
      "execution_count": null,
      "outputs": [
        {
          "output_type": "stream",
          "text": [
            "Hello satish , Good Morning\n",
            "Hello satish , Good Morning\n"
          ],
          "name": "stdout"
        }
      ]
    },
    {
      "cell_type": "markdown",
      "metadata": {
        "id": "peD0sEQ2JRxY"
      },
      "source": [
        "# 3. Arbitary Arguments"
      ]
    },
    {
      "cell_type": "markdown",
      "metadata": {
        "id": "zcM0Px64JRxY"
      },
      "source": [
        "Sometimes, we do not know in advance the number of arguments that will be passed into a function.Python allows us to handle this kind of situation through function calls with arbitrary number of arguments."
      ]
    },
    {
      "cell_type": "markdown",
      "metadata": {
        "id": "FUyJdXVhJRxZ"
      },
      "source": [
        "# Example:"
      ]
    },
    {
      "cell_type": "code",
      "metadata": {
        "id": "LiwrfzBqJRxZ",
        "colab": {
          "base_uri": "https://localhost:8080/"
        },
        "outputId": "19612979-eefc-40c7-9b76-199692a441d5"
      },
      "source": [
        "def greet(*names):\n",
        "    \"\"\"\n",
        "    This function greets all persons in the names tuple \n",
        "    \"\"\"\n",
        "    print(names)\n",
        "    \n",
        "    for name in names:\n",
        "        print(\"Hello,  {0} \".format(name))\n",
        "\n",
        "greet(\"satish\", \"murali\", \"naveen\", \"srikanth\")\n",
        "\n",
        "\n"
      ],
      "execution_count": null,
      "outputs": [
        {
          "output_type": "stream",
          "text": [
            "('satish', 'murali', 'naveen', 'srikanth')\n",
            "Hello,  satish \n",
            "Hello,  murali \n",
            "Hello,  naveen \n",
            "Hello,  srikanth \n"
          ],
          "name": "stdout"
        }
      ]
    },
    {
      "cell_type": "code",
      "metadata": {
        "collapsed": true,
        "id": "KIfWXlGlJRxb"
      },
      "source": [
        "greet(\"satish\")\n"
      ],
      "execution_count": null,
      "outputs": []
    },
    {
      "cell_type": "code",
      "metadata": {
        "id": "3jRtGOvK8tNq"
      },
      "source": [
        ""
      ],
      "execution_count": null,
      "outputs": []
    }
  ]
}