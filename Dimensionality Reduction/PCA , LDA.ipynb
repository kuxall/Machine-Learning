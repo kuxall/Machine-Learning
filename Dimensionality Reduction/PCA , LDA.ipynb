{
 "cells": [
  {
   "cell_type": "markdown",
   "metadata": {},
   "source": [
    "# Principal Components Analysis"
   ]
  },
  {
   "cell_type": "markdown",
   "metadata": {},
   "source": [
    "Algortihm\n",
    "1. Strandarize the d-dim data\n",
    "2. Construct Co-variance Matrix\n",
    "3. Decompose the co variance matix into its eigen vectors and Values\n",
    "4. Sort the eigen vector by decreasing order to rank the corresponding eigen vectors.\n",
    "5. Select k- eigen vectors which correspond tok largest eigen values, whee k is dim. of new featue space (k < d)\n",
    "6. Construct a prokection matrix W from top k eigen vectors.\n",
    "7. Transform the d dim input data set X, using projection matrix W, to obtain the new k dim feature space."
   ]
  },
  {
   "cell_type": "code",
   "execution_count": 1,
   "metadata": {},
   "outputs": [],
   "source": [
    "import pandas as pd"
   ]
  },
  {
   "cell_type": "code",
   "execution_count": 6,
   "metadata": {},
   "outputs": [
    {
     "data": {
      "text/html": [
       "<div>\n",
       "<style scoped>\n",
       "    .dataframe tbody tr th:only-of-type {\n",
       "        vertical-align: middle;\n",
       "    }\n",
       "\n",
       "    .dataframe tbody tr th {\n",
       "        vertical-align: top;\n",
       "    }\n",
       "\n",
       "    .dataframe thead th {\n",
       "        text-align: right;\n",
       "    }\n",
       "</style>\n",
       "<table border=\"1\" class=\"dataframe\">\n",
       "  <thead>\n",
       "    <tr style=\"text-align: right;\">\n",
       "      <th></th>\n",
       "      <th>0</th>\n",
       "      <th>1</th>\n",
       "      <th>2</th>\n",
       "      <th>3</th>\n",
       "      <th>4</th>\n",
       "      <th>5</th>\n",
       "      <th>6</th>\n",
       "      <th>7</th>\n",
       "      <th>8</th>\n",
       "      <th>9</th>\n",
       "      <th>10</th>\n",
       "      <th>11</th>\n",
       "      <th>12</th>\n",
       "      <th>13</th>\n",
       "    </tr>\n",
       "  </thead>\n",
       "  <tbody>\n",
       "    <tr>\n",
       "      <th>0</th>\n",
       "      <td>1</td>\n",
       "      <td>14.23</td>\n",
       "      <td>1.71</td>\n",
       "      <td>2.43</td>\n",
       "      <td>15.6</td>\n",
       "      <td>127</td>\n",
       "      <td>2.80</td>\n",
       "      <td>3.06</td>\n",
       "      <td>0.28</td>\n",
       "      <td>2.29</td>\n",
       "      <td>5.64</td>\n",
       "      <td>1.04</td>\n",
       "      <td>3.92</td>\n",
       "      <td>1065</td>\n",
       "    </tr>\n",
       "    <tr>\n",
       "      <th>1</th>\n",
       "      <td>1</td>\n",
       "      <td>13.20</td>\n",
       "      <td>1.78</td>\n",
       "      <td>2.14</td>\n",
       "      <td>11.2</td>\n",
       "      <td>100</td>\n",
       "      <td>2.65</td>\n",
       "      <td>2.76</td>\n",
       "      <td>0.26</td>\n",
       "      <td>1.28</td>\n",
       "      <td>4.38</td>\n",
       "      <td>1.05</td>\n",
       "      <td>3.40</td>\n",
       "      <td>1050</td>\n",
       "    </tr>\n",
       "    <tr>\n",
       "      <th>2</th>\n",
       "      <td>1</td>\n",
       "      <td>13.16</td>\n",
       "      <td>2.36</td>\n",
       "      <td>2.67</td>\n",
       "      <td>18.6</td>\n",
       "      <td>101</td>\n",
       "      <td>2.80</td>\n",
       "      <td>3.24</td>\n",
       "      <td>0.30</td>\n",
       "      <td>2.81</td>\n",
       "      <td>5.68</td>\n",
       "      <td>1.03</td>\n",
       "      <td>3.17</td>\n",
       "      <td>1185</td>\n",
       "    </tr>\n",
       "    <tr>\n",
       "      <th>3</th>\n",
       "      <td>1</td>\n",
       "      <td>14.37</td>\n",
       "      <td>1.95</td>\n",
       "      <td>2.50</td>\n",
       "      <td>16.8</td>\n",
       "      <td>113</td>\n",
       "      <td>3.85</td>\n",
       "      <td>3.49</td>\n",
       "      <td>0.24</td>\n",
       "      <td>2.18</td>\n",
       "      <td>7.80</td>\n",
       "      <td>0.86</td>\n",
       "      <td>3.45</td>\n",
       "      <td>1480</td>\n",
       "    </tr>\n",
       "    <tr>\n",
       "      <th>4</th>\n",
       "      <td>1</td>\n",
       "      <td>13.24</td>\n",
       "      <td>2.59</td>\n",
       "      <td>2.87</td>\n",
       "      <td>21.0</td>\n",
       "      <td>118</td>\n",
       "      <td>2.80</td>\n",
       "      <td>2.69</td>\n",
       "      <td>0.39</td>\n",
       "      <td>1.82</td>\n",
       "      <td>4.32</td>\n",
       "      <td>1.04</td>\n",
       "      <td>2.93</td>\n",
       "      <td>735</td>\n",
       "    </tr>\n",
       "  </tbody>\n",
       "</table>\n",
       "</div>"
      ],
      "text/plain": [
       "   0      1     2     3     4    5     6     7     8     9     10    11    12  \\\n",
       "0   1  14.23  1.71  2.43  15.6  127  2.80  3.06  0.28  2.29  5.64  1.04  3.92   \n",
       "1   1  13.20  1.78  2.14  11.2  100  2.65  2.76  0.26  1.28  4.38  1.05  3.40   \n",
       "2   1  13.16  2.36  2.67  18.6  101  2.80  3.24  0.30  2.81  5.68  1.03  3.17   \n",
       "3   1  14.37  1.95  2.50  16.8  113  3.85  3.49  0.24  2.18  7.80  0.86  3.45   \n",
       "4   1  13.24  2.59  2.87  21.0  118  2.80  2.69  0.39  1.82  4.32  1.04  2.93   \n",
       "\n",
       "     13  \n",
       "0  1065  \n",
       "1  1050  \n",
       "2  1185  \n",
       "3  1480  \n",
       "4   735  "
      ]
     },
     "execution_count": 6,
     "metadata": {},
     "output_type": "execute_result"
    }
   ],
   "source": [
    "df = pd.read_csv('https://archive.ics.uci.edu/ml/''machine-learning-databases/wine/wine.data', header=None)\n",
    "df.head()"
   ]
  },
  {
   "cell_type": "code",
   "execution_count": 5,
   "metadata": {},
   "outputs": [],
   "source": [
    "from sklearn.model_selection import train_test_split"
   ]
  },
  {
   "cell_type": "code",
   "execution_count": 7,
   "metadata": {},
   "outputs": [],
   "source": [
    "X, y = df.iloc[:,1:].values , df.iloc[:,0].values"
   ]
  },
  {
   "cell_type": "code",
   "execution_count": 13,
   "metadata": {},
   "outputs": [
    {
     "name": "stdout",
     "output_type": "stream",
     "text": [
      "(178, 13)\n",
      "(178,)\n"
     ]
    }
   ],
   "source": [
    "print(X.shape)\n",
    "print(y.shape)"
   ]
  },
  {
   "cell_type": "code",
   "execution_count": 15,
   "metadata": {},
   "outputs": [],
   "source": [
    "X_train, X_test, y_train, y_test = train_test_split(X, y, test_size =0.3, stratify =y, random_state =0)"
   ]
  },
  {
   "cell_type": "code",
   "execution_count": 16,
   "metadata": {},
   "outputs": [],
   "source": [
    "#standarize the data"
   ]
  },
  {
   "cell_type": "code",
   "execution_count": 17,
   "metadata": {},
   "outputs": [],
   "source": [
    "from sklearn.preprocessing import StandardScaler\n",
    "\n",
    "sc = StandardScaler()"
   ]
  },
  {
   "cell_type": "code",
   "execution_count": 103,
   "metadata": {},
   "outputs": [],
   "source": [
    "X_train_std = sc.fit_transform(X_train)\n",
    "X_test_std = sc.transform(X_test)"
   ]
  },
  {
   "cell_type": "code",
   "execution_count": 19,
   "metadata": {},
   "outputs": [],
   "source": [
    "#rigen valuea dn vectors"
   ]
  },
  {
   "cell_type": "code",
   "execution_count": 20,
   "metadata": {},
   "outputs": [],
   "source": [
    "import numpy as np\n"
   ]
  },
  {
   "cell_type": "code",
   "execution_count": 21,
   "metadata": {},
   "outputs": [],
   "source": [
    "cov_mat = np.cov(X_train_std.T)"
   ]
  },
  {
   "cell_type": "code",
   "execution_count": 22,
   "metadata": {},
   "outputs": [
    {
     "data": {
      "text/plain": [
       "array([[ 1.00813008,  0.06709556,  0.17405351, -0.35439069,  0.26374703,\n",
       "         0.29079481,  0.21835807, -0.08111974,  0.10436705,  0.54282846,\n",
       "         0.05893536, -0.01797029,  0.6415292 ],\n",
       "       [ 0.06709556,  1.00813008,  0.08326463,  0.26356776, -0.11349172,\n",
       "        -0.33735555, -0.41035281,  0.33653916, -0.21602672,  0.17504154,\n",
       "        -0.551593  , -0.40561695, -0.24089991],\n",
       "       [ 0.17405351,  0.08326463,  1.00813008,  0.46420355,  0.29092834,\n",
       "         0.18020384,  0.15537535,  0.15918823, -0.00703776,  0.20549146,\n",
       "         0.00665422,  0.02039019,  0.223495  ],\n",
       "       [-0.35439069,  0.26356776,  0.46420355,  1.00813008, -0.07406447,\n",
       "        -0.28060672, -0.31391899,  0.31581353, -0.24621059, -0.08872685,\n",
       "        -0.22595587, -0.16799906, -0.46393412],\n",
       "       [ 0.26374703, -0.11349172,  0.29092834, -0.07406447,  1.00813008,\n",
       "         0.25667578,  0.21025773, -0.26003426,  0.19601657,  0.20606456,\n",
       "         0.13359768,  0.06633258,  0.41810999],\n",
       "       [ 0.29079481, -0.33735555,  0.18020384, -0.28060672,  0.25667578,\n",
       "         1.00813008,  0.87123661, -0.44979792,  0.62334099, -0.05689854,\n",
       "         0.50664086,  0.71978745,  0.52986924],\n",
       "       [ 0.21835807, -0.41035281,  0.15537535, -0.31391899,  0.21025773,\n",
       "         0.87123661,  1.00813008, -0.54824079,  0.64800868, -0.15864896,\n",
       "         0.60417124,  0.79319622,  0.52836141],\n",
       "       [-0.08111974,  0.33653916,  0.15918823,  0.31581353, -0.26003426,\n",
       "        -0.44979792, -0.54824079,  1.00813008, -0.39989328,  0.19810581,\n",
       "        -0.36629252, -0.57622953, -0.34099709],\n",
       "       [ 0.10436705, -0.21602672, -0.00703776, -0.24621059,  0.19601657,\n",
       "         0.62334099,  0.64800868, -0.39989328,  1.00813008, -0.00330144,\n",
       "         0.32019524,  0.50615495,  0.32976133],\n",
       "       [ 0.54282846,  0.17504154,  0.20549146, -0.08872685,  0.20606456,\n",
       "        -0.05689854, -0.15864896,  0.19810581, -0.00330144,  1.00813008,\n",
       "        -0.45834115, -0.4666752 ,  0.32156154],\n",
       "       [ 0.05893536, -0.551593  ,  0.00665422, -0.22595587,  0.13359768,\n",
       "         0.50664086,  0.60417124, -0.36629252,  0.32019524, -0.45834115,\n",
       "         1.00813008,  0.6435365 ,  0.35356248],\n",
       "       [-0.01797029, -0.40561695,  0.02039019, -0.16799906,  0.06633258,\n",
       "         0.71978745,  0.79319622, -0.57622953,  0.50615495, -0.4666752 ,\n",
       "         0.6435365 ,  1.00813008,  0.26670793],\n",
       "       [ 0.6415292 , -0.24089991,  0.223495  , -0.46393412,  0.41810999,\n",
       "         0.52986924,  0.52836141, -0.34099709,  0.32976133,  0.32156154,\n",
       "         0.35356248,  0.26670793,  1.00813008]])"
      ]
     },
     "execution_count": 22,
     "metadata": {},
     "output_type": "execute_result"
    }
   ],
   "source": [
    "cov_mat"
   ]
  },
  {
   "cell_type": "code",
   "execution_count": 23,
   "metadata": {},
   "outputs": [],
   "source": [
    "eigen_vals, eigen_vecs = np.linalg.eig(cov_mat)"
   ]
  },
  {
   "cell_type": "code",
   "execution_count": 42,
   "metadata": {},
   "outputs": [
    {
     "name": "stdout",
     "output_type": "stream",
     "text": [
      "[4.84274532 2.41602459 1.54845825 0.96120438 0.84166161 0.6620634\n",
      " 0.51828472 0.34650377 0.3131368  0.10754642 0.21357215 0.15362835\n",
      " 0.1808613 ]\n",
      "2.4160245870352255\n",
      "------------------------------------------------\n",
      "[[-1.37242175e-01  5.03034778e-01 -1.37748734e-01 -3.29610003e-03\n",
      "  -2.90625226e-01  2.99096847e-01  7.90529293e-02 -3.68176414e-01\n",
      "  -3.98377017e-01 -9.44869777e-02  3.74638877e-01 -1.27834515e-01\n",
      "   2.62834263e-01]\n",
      " [ 2.47243265e-01  1.64871190e-01  9.61503863e-02  5.62646692e-01\n",
      "   8.95378697e-02  6.27036396e-01 -2.74002014e-01 -1.25775752e-02\n",
      "   1.10458230e-01  2.63652406e-02 -1.37405597e-01  8.06401578e-02\n",
      "  -2.66769211e-01]\n",
      " [-2.54515927e-02  2.44564761e-01  6.77775667e-01 -1.08977111e-01\n",
      "  -1.60834991e-01  3.89128239e-04  1.32328045e-01  1.77578177e-01\n",
      "   3.82496856e-01  1.42747511e-01  4.61583035e-01  1.67924873e-02\n",
      "  -1.15542548e-01]\n",
      " [ 2.06945084e-01 -1.13529045e-01  6.25040550e-01  3.38187002e-02\n",
      "   5.15873402e-02 -4.05836452e-02  2.23999097e-01 -4.40592110e-01\n",
      "  -2.43373853e-01 -1.30485780e-01 -4.18953989e-01 -1.10845657e-01\n",
      "   1.99483410e-01]\n",
      " [-1.54365821e-01  2.89745182e-01  1.96135481e-01 -3.67511070e-01\n",
      "   6.76487073e-01  6.57772614e-02 -4.05268966e-01  1.16617503e-01\n",
      "  -2.58982359e-01 -6.76080782e-02  1.00470630e-02  7.93879562e-02\n",
      "   2.89018810e-02]\n",
      " [-3.93769523e-01  5.08010391e-02  1.40310572e-01  2.40245127e-01\n",
      "  -1.18511144e-01 -5.89776247e-02 -3.47419412e-02  3.50192127e-01\n",
      "  -3.42312860e-01  4.59917661e-01 -2.21254241e-01 -4.91459313e-01\n",
      "  -6.63868598e-02]\n",
      " [-4.17351064e-01 -2.28733792e-02  1.17053859e-01  1.87053299e-01\n",
      "  -1.07100349e-01 -3.01103180e-02  4.17835724e-02  2.18718183e-01\n",
      "  -3.61231642e-02 -8.14583947e-01 -4.17513600e-02 -5.03074004e-02\n",
      "  -2.13349079e-01]\n",
      " [ 3.05728961e-01  9.04888470e-02  1.31217777e-01 -2.29262234e-02\n",
      "  -5.07581610e-01 -2.71728086e-01 -6.31145686e-01  1.97129425e-01\n",
      "  -1.71436883e-01 -9.57480885e-02 -8.87569452e-02  1.75328030e-01\n",
      "   1.86391279e-01]\n",
      " [-3.06683469e-01  8.35232677e-03  3.04309008e-02  4.96262330e-01\n",
      "   2.01634619e-01 -4.39997519e-01 -3.23122775e-01 -4.33055871e-01\n",
      "   2.44370210e-01  6.72468934e-02  1.99921861e-01 -3.67595797e-03\n",
      "   1.68082985e-01]\n",
      " [ 7.55406578e-02  5.49775805e-01 -7.99299713e-02  1.06482939e-01\n",
      "   5.73607091e-03 -4.11743459e-01  2.69082623e-01 -6.68411823e-02\n",
      "  -1.55514919e-01  8.73336218e-02 -2.21668868e-01  3.59756535e-01\n",
      "  -4.66369031e-01]\n",
      " [-3.26132628e-01 -2.07164328e-01  5.30591506e-02 -3.69053747e-01\n",
      "  -2.76914216e-01  1.41673377e-01 -3.02640661e-01 -4.59762295e-01\n",
      "   2.11961247e-02  1.29061125e-01 -9.84694573e-02  4.04669797e-02\n",
      "  -5.32483880e-01]\n",
      " [-3.68610222e-01 -2.49025357e-01  1.32391030e-01  1.42016088e-01\n",
      "  -6.66275572e-02  1.75842384e-01  1.30540143e-01  1.10827548e-01\n",
      "  -2.38089559e-01  1.87646268e-01  1.91205783e-02  7.42229543e-01\n",
      "   2.37835283e-01]\n",
      " [-2.96696514e-01  3.80229423e-01 -7.06502178e-02 -1.67682173e-01\n",
      "  -1.28029045e-01  1.38018388e-01  8.11335043e-04  5.60817288e-03\n",
      "   5.17278463e-01  1.21112574e-02 -5.42532072e-01  3.87395209e-02\n",
      "   3.67763359e-01]]\n",
      "aaaaaaaaaaaaaa\n",
      "[ 0.50303478  0.16487119  0.24456476 -0.11352904  0.28974518  0.05080104\n",
      " -0.02287338  0.09048885  0.00835233  0.54977581 -0.20716433 -0.24902536\n",
      "  0.38022942]\n"
     ]
    }
   ],
   "source": [
    "print(eigen_vals)\n",
    "print(eigen_vals[1])\n",
    "print(\"------------------------------------------------\")\n",
    "print(eigen_vecs)\n",
    "print(\"aaaaaaaaaaaaaa\")\n",
    "print(eigen_vecs[:,1])"
   ]
  },
  {
   "cell_type": "markdown",
   "metadata": {},
   "source": [
    "#### total and Explained Variance"
   ]
  },
  {
   "cell_type": "code",
   "execution_count": 28,
   "metadata": {},
   "outputs": [],
   "source": [
    "tot = sum(eigen_vals)"
   ]
  },
  {
   "cell_type": "code",
   "execution_count": 29,
   "metadata": {},
   "outputs": [],
   "source": [
    "var_exp = [(i/tot) for i in sorted(eigen_vals, reverse=True)]"
   ]
  },
  {
   "cell_type": "code",
   "execution_count": 30,
   "metadata": {},
   "outputs": [
    {
     "data": {
      "text/plain": [
       "[0.3695146859960766,\n",
       " 0.18434927059884168,\n",
       " 0.11815159094596975,\n",
       " 0.07334251763785461,\n",
       " 0.06422107821731675,\n",
       " 0.05051724484907655,\n",
       " 0.039546538912414414,\n",
       " 0.026439183169219973,\n",
       " 0.023893192591852925,\n",
       " 0.016296137737251006,\n",
       " 0.013800211221948426,\n",
       " 0.011722262443085971,\n",
       " 0.008206085679091394]"
      ]
     },
     "execution_count": 30,
     "metadata": {},
     "output_type": "execute_result"
    }
   ],
   "source": [
    "var_exp"
   ]
  },
  {
   "cell_type": "code",
   "execution_count": 31,
   "metadata": {},
   "outputs": [],
   "source": [
    "cummulative_var_exp = np.cumsum(var_exp)"
   ]
  },
  {
   "cell_type": "code",
   "execution_count": 32,
   "metadata": {},
   "outputs": [],
   "source": [
    "import matplotlib.pyplot as plt"
   ]
  },
  {
   "cell_type": "code",
   "execution_count": 35,
   "metadata": {},
   "outputs": [
    {
     "data": {
      "text/plain": [
       "[<matplotlib.lines.Line2D at 0x7f8e9c032730>]"
      ]
     },
     "execution_count": 35,
     "metadata": {},
     "output_type": "execute_result"
    },
    {
     "data": {
      "image/png": "[encoded data removed]",
      "text/plain": [
       "<Figure size 432x288 with 1 Axes>"
      ]
     },
     "metadata": {
      "needs_background": "light"
     },
     "output_type": "display_data"
    }
   ],
   "source": [
    "plt.bar(range(1,14), var_exp, alpha=0.5)\n",
    "plt.step(range(1,14), cummulative_var_exp)"
   ]
  },
  {
   "cell_type": "markdown",
   "metadata": {},
   "source": [
    "##### Sorting the eigen pairs by decreeasing order"
   ]
  },
  {
   "cell_type": "code",
   "execution_count": 46,
   "metadata": {},
   "outputs": [],
   "source": [
    "eigen_pairs = [(np.abs(eigen_vals[i]), eigen_vecs[:,i]) for i in range(len(eigen_vals))]"
   ]
  },
  {
   "cell_type": "code",
   "execution_count": 47,
   "metadata": {},
   "outputs": [],
   "source": [
    "#sorting\n",
    "eigen_pairs.sort(key=lambda  k: k[0], reverse=True)"
   ]
  },
  {
   "cell_type": "code",
   "execution_count": 49,
   "metadata": {},
   "outputs": [
    {
     "data": {
      "text/plain": [
       "(2.4160245870352255,\n",
       " array([ 0.50303478,  0.16487119,  0.24456476, -0.11352904,  0.28974518,\n",
       "         0.05080104, -0.02287338,  0.09048885,  0.00835233,  0.54977581,\n",
       "        -0.20716433, -0.24902536,  0.38022942]))"
      ]
     },
     "execution_count": 49,
     "metadata": {},
     "output_type": "execute_result"
    }
   ],
   "source": [
    "eigen_pairs[1]"
   ]
  },
  {
   "cell_type": "code",
   "execution_count": 50,
   "metadata": {},
   "outputs": [],
   "source": [
    "w = np.hstack((eigen_pairs[0][1][:, np.newaxis],\n",
    "              eigen_pairs[1][1][:, np.newaxis]))"
   ]
  },
  {
   "cell_type": "code",
   "execution_count": 52,
   "metadata": {},
   "outputs": [
    {
     "data": {
      "text/plain": [
       "array([[-0.13724218,  0.50303478],\n",
       "       [ 0.24724326,  0.16487119],\n",
       "       [-0.02545159,  0.24456476],\n",
       "       [ 0.20694508, -0.11352904],\n",
       "       [-0.15436582,  0.28974518],\n",
       "       [-0.39376952,  0.05080104],\n",
       "       [-0.41735106, -0.02287338],\n",
       "       [ 0.30572896,  0.09048885],\n",
       "       [-0.30668347,  0.00835233],\n",
       "       [ 0.07554066,  0.54977581],\n",
       "       [-0.32613263, -0.20716433],\n",
       "       [-0.36861022, -0.24902536],\n",
       "       [-0.29669651,  0.38022942]])"
      ]
     },
     "execution_count": 52,
     "metadata": {},
     "output_type": "execute_result"
    }
   ],
   "source": [
    "# this i our 13* 2 projection matrix\n",
    "w"
   ]
  },
  {
   "cell_type": "code",
   "execution_count": 54,
   "metadata": {},
   "outputs": [
    {
     "data": {
      "text/plain": [
       "array([2.38299011, 0.45458499])"
      ]
     },
     "execution_count": 54,
     "metadata": {},
     "output_type": "execute_result"
    }
   ],
   "source": [
    "X_train_std[0].dot(w)"
   ]
  },
  {
   "cell_type": "code",
   "execution_count": 85,
   "metadata": {},
   "outputs": [
    {
     "data": {
      "text/plain": [
       "(124,)"
      ]
     },
     "execution_count": 85,
     "metadata": {},
     "output_type": "execute_result"
    }
   ],
   "source": [
    "# transformation\n",
    "X_train_pca = X_train_std.dot(w)\n",
    "X_train_pca.shape\n",
    "y_train.shape"
   ]
  },
  {
   "cell_type": "code",
   "execution_count": 86,
   "metadata": {},
   "outputs": [],
   "source": [
    "# visualzignt he transforemed dataset"
   ]
  },
  {
   "cell_type": "code",
   "execution_count": 92,
   "metadata": {},
   "outputs": [],
   "source": [
    "colors = ['r', 'g' ,'b']\n",
    "markers = ['s', 'x' ,'o']\n",
    "\n",
    "a =X_train_pca[y_train==1, 0]"
   ]
  },
  {
   "cell_type": "code",
   "execution_count": 96,
   "metadata": {},
   "outputs": [],
   "source": [
    "b = X_train_pca[y_train==1, 1]"
   ]
  },
  {
   "cell_type": "code",
   "execution_count": 97,
   "metadata": {},
   "outputs": [
    {
     "data": {
      "image/png": "[encoded data removed]",
      "text/plain": [
       "<Figure size 432x288 with 1 Axes>"
      ]
     },
     "metadata": {
      "needs_background": "light"
     },
     "output_type": "display_data"
    }
   ],
   "source": [
    "for l, c,m in zip(np.unique(y_train), colors, markers):\n",
    "    plt.scatter(X_train_pca[y_train==l, 0],\n",
    "                X_train_pca[y_train==l, 1],\n",
    "                c=c, label = 1, marker =m)"
   ]
  },
  {
   "cell_type": "markdown",
   "metadata": {},
   "source": [
    "### PCA in Scikit Learn"
   ]
  },
  {
   "cell_type": "code",
   "execution_count": 98,
   "metadata": {},
   "outputs": [],
   "source": [
    "from sklearn.linear_model import LogisticRegression"
   ]
  },
  {
   "cell_type": "code",
   "execution_count": 99,
   "metadata": {},
   "outputs": [],
   "source": [
    "from sklearn.decomposition import PCA"
   ]
  },
  {
   "cell_type": "code",
   "execution_count": 100,
   "metadata": {},
   "outputs": [],
   "source": [
    "pca = PCA(n_components=2)"
   ]
  },
  {
   "cell_type": "code",
   "execution_count": 101,
   "metadata": {},
   "outputs": [],
   "source": [
    "lr = LogisticRegression()"
   ]
  },
  {
   "cell_type": "code",
   "execution_count": 104,
   "metadata": {},
   "outputs": [],
   "source": [
    "X_train_pca = pca.fit_transform(X_train_std)\n",
    "X_test_pca = pca.transform(X_test_std)"
   ]
  },
  {
   "cell_type": "code",
   "execution_count": 106,
   "metadata": {},
   "outputs": [
    {
     "data": {
      "text/plain": [
       "LogisticRegression(C=1.0, class_weight=None, dual=False, fit_intercept=True,\n",
       "                   intercept_scaling=1, l1_ratio=None, max_iter=100,\n",
       "                   multi_class='auto', n_jobs=None, penalty='l2',\n",
       "                   random_state=None, solver='lbfgs', tol=0.0001, verbose=0,\n",
       "                   warm_start=False)"
      ]
     },
     "execution_count": 106,
     "metadata": {},
     "output_type": "execute_result"
    }
   ],
   "source": [
    "lr.fit(X_train_pca, y_train)"
   ]
  },
  {
   "cell_type": "code",
   "execution_count": 107,
   "metadata": {},
   "outputs": [],
   "source": [
    "from plot_utils import plot_decision_regions"
   ]
  },
  {
   "cell_type": "code",
   "execution_count": 108,
   "metadata": {},
   "outputs": [
    {
     "data": {
      "image/png": "[encoded data removed]",
      "text/plain": [
       "<Figure size 432x288 with 1 Axes>"
      ]
     },
     "metadata": {
      "needs_background": "light"
     },
     "output_type": "display_data"
    }
   ],
   "source": [
    "plot_decision_regions(X_train_pca, y_train, classifier= lr)"
   ]
  },
  {
   "cell_type": "markdown",
   "metadata": {},
   "source": [
    "# Supervised Data Compression via Linear Discriminant Analysis"
   ]
  },
  {
   "cell_type": "markdown",
   "metadata": {},
   "source": [
    "Algorithm\n",
    "\n",
    "1. Standarizethe  d dimensional data\n",
    "2. for each  lcass compute the d-dim mean vector\n",
    "3. Construct $S_b$ - between class scatter matrix  and $S_w$ - within class scatter matrix.\n",
    "4. Computer eigen vaues and vectors coresponding to $S_w^{-1}$ $S_b$\n",
    "5. Sort Eigen values nad vectors by decreasign order.\n",
    "6. choose k largest eigen vectors as pca.\n",
    "7. Construt a transformation matrix w, eigen vectors adn columns of this matrix\n",
    "8. projection using w"
   ]
  },
  {
   "cell_type": "markdown",
   "metadata": {},
   "source": [
    "## Computing the Scatter Matrices"
   ]
  },
  {
   "cell_type": "markdown",
   "metadata": {},
   "source": [
    "For Construcing with class scatter matrix and betwen class scatter matrxi, we use mean vectors"
   ]
  },
  {
   "cell_type": "code",
   "execution_count": 111,
   "metadata": {},
   "outputs": [],
   "source": [
    "mean_vecs  = []\n",
    "for label in range(1,4):\n",
    "    mean_vecs.append(np.mean(X_train_std[y_train == label], axis =0))"
   ]
  },
  {
   "cell_type": "code",
   "execution_count": 112,
   "metadata": {},
   "outputs": [
    {
     "data": {
      "text/plain": [
       "[array([ 0.9065826 , -0.34973457,  0.32010329, -0.71891449,  0.50558678,\n",
       "         0.88069702,  0.95894709, -0.55161049,  0.54159322,  0.23383109,\n",
       "         0.58971299,  0.65631399,  1.20749382]),\n",
       " array([-0.87487963, -0.28480003, -0.37347228,  0.31571225, -0.38480347,\n",
       "        -0.04332505,  0.06345321, -0.09460613,  0.07034749, -0.82860474,\n",
       "         0.31436962,  0.36084258, -0.72528643]),\n",
       " array([ 0.199215  ,  0.8660339 ,  0.168163  ,  0.41484489, -0.04511771,\n",
       "        -1.02855532, -1.28756034,  0.82867687, -0.77947565,  0.96494432,\n",
       "        -1.20899133, -1.36215159, -0.40130076])]"
      ]
     },
     "execution_count": 112,
     "metadata": {},
     "output_type": "execute_result"
    }
   ],
   "source": [
    "mean_vecs"
   ]
  },
  {
   "cell_type": "markdown",
   "metadata": {},
   "source": [
    "#### Within Class Scatter Matrix"
   ]
  },
  {
   "cell_type": "markdown",
   "metadata": {},
   "source": [
    "$S_w$ = $\\sum_i^c$ $S_i$\n",
    "\n",
    "\n",
    "$S_i$ = $\\sum_{x \\in D_j}^c$ $(x - m_i)(x - m_i)^T$"
   ]
  },
  {
   "cell_type": "code",
   "execution_count": 115,
   "metadata": {},
   "outputs": [],
   "source": [
    "d =13 \n",
    "S_W = 0\n",
    "for label, mv in zip(range(1,4), mean_vecs):\n",
    "    class_sctter = np.zeros((d,d))\n",
    "    for row in X_train_std[y_train == label]:\n",
    "        row, mv = row.reshape(d,1), mv.reshape(d,1)\n",
    "        class_sctter += (row- mv).dot((row-mv).T)\n",
    "        \n",
    "    S_W += class_sctter"
   ]
  },
  {
   "cell_type": "code",
   "execution_count": 117,
   "metadata": {},
   "outputs": [
    {
     "data": {
      "text/plain": [
       "13"
      ]
     },
     "execution_count": 117,
     "metadata": {},
     "output_type": "execute_result"
    }
   ],
   "source": [
    "S_W.shape[0]"
   ]
  },
  {
   "cell_type": "code",
   "execution_count": 118,
   "metadata": {},
   "outputs": [
    {
     "data": {
      "text/plain": [
       "13"
      ]
     },
     "execution_count": 118,
     "metadata": {},
     "output_type": "execute_result"
    }
   ],
   "source": [
    "S_W.shape[1]"
   ]
  },
  {
   "cell_type": "code",
   "execution_count": 119,
   "metadata": {},
   "outputs": [
    {
     "name": "stdout",
     "output_type": "stream",
     "text": [
      "class lable [41 50 33]\n"
     ]
    }
   ],
   "source": [
    "# the assumpption we are making in LDA that class labels are unofrorm distributed is getting violted.\n",
    "print('class lable %s' % np.bincount(y_train)[1:])"
   ]
  },
  {
   "cell_type": "code",
   "execution_count": 120,
   "metadata": {},
   "outputs": [],
   "source": [
    "# normalizing the scatter matrix "
   ]
  },
  {
   "cell_type": "code",
   "execution_count": 121,
   "metadata": {},
   "outputs": [],
   "source": [
    "d =13 \n",
    "S_W = 0\n",
    "for label, mv in zip(range(1,4), mean_vecs):\n",
    "    class_scatter = np.cov(X_train_std[y_train == label].T)\n",
    "    S_W += class_scatter\n",
    "\n",
    "        \n"
   ]
  },
  {
   "cell_type": "code",
   "execution_count": 124,
   "metadata": {},
   "outputs": [
    {
     "data": {
      "text/plain": [
       "(13, 13)"
      ]
     },
     "execution_count": 124,
     "metadata": {},
     "output_type": "execute_result"
    }
   ],
   "source": [
    "S_W.shape"
   ]
  },
  {
   "cell_type": "markdown",
   "metadata": {},
   "source": [
    "$S_B$ = $\\sum_{i=1}^c$ $n_i (m_i - m)(m_i- m)^T$\n",
    "\n",
    "m is the overall mean, including samples from all classes"
   ]
  },
  {
   "cell_type": "code",
   "execution_count": 126,
   "metadata": {},
   "outputs": [],
   "source": [
    "mean_overall = np.mean(X_train_std, axis =0)"
   ]
  },
  {
   "cell_type": "code",
   "execution_count": 127,
   "metadata": {},
   "outputs": [
    {
     "data": {
      "text/plain": [
       "array([ 6.89009781e-15,  1.68324136e-16,  3.79965996e-15,  2.85613826e-16,\n",
       "       -3.17846108e-16,  1.66264851e-15,  1.59818395e-16, -1.19886180e-15,\n",
       "        1.88827448e-15, -1.61519543e-15, -5.78390382e-16,  8.63108868e-16,\n",
       "       -1.33405831e-16])"
      ]
     },
     "execution_count": 127,
     "metadata": {},
     "output_type": "execute_result"
    }
   ],
   "source": [
    "mean_overall"
   ]
  },
  {
   "cell_type": "code",
   "execution_count": 128,
   "metadata": {},
   "outputs": [
    {
     "data": {
      "text/plain": [
       "(13,)"
      ]
     },
     "execution_count": 128,
     "metadata": {},
     "output_type": "execute_result"
    }
   ],
   "source": [
    "mean_overall.shape"
   ]
  },
  {
   "cell_type": "code",
   "execution_count": 129,
   "metadata": {},
   "outputs": [
    {
     "data": {
      "text/plain": [
       "(124, 13)"
      ]
     },
     "execution_count": 129,
     "metadata": {},
     "output_type": "execute_result"
    }
   ],
   "source": [
    "X_train_std.shape"
   ]
  },
  {
   "cell_type": "code",
   "execution_count": 130,
   "metadata": {},
   "outputs": [],
   "source": [
    "S_B = np.zeros((13,13,))"
   ]
  },
  {
   "cell_type": "code",
   "execution_count": 137,
   "metadata": {},
   "outputs": [
    {
     "data": {
      "text/plain": [
       "0"
      ]
     },
     "execution_count": 137,
     "metadata": {},
     "output_type": "execute_result"
    }
   ],
   "source": []
  },
  {
   "cell_type": "code",
   "execution_count": 139,
   "metadata": {},
   "outputs": [],
   "source": [
    "for i, mean_vec in enumerate(mean_vecs):\n",
    "    n = X_train[y_train == i+1, :].shape[0]\n",
    "    mean_vec = mean_vec.reshape(13,1)\n",
    "    mean_overall = mean_overall.reshape(13,1)\n",
    "    S_B += n *(mean_vec - mean_overall).dot((mean_vec - mean_overall).T)\n",
    "    "
   ]
  },
  {
   "cell_type": "code",
   "execution_count": 143,
   "metadata": {},
   "outputs": [
    {
     "data": {
      "text/plain": [
       "13"
      ]
     },
     "execution_count": 143,
     "metadata": {},
     "output_type": "execute_result"
    }
   ],
   "source": [
    "S_B.shape[1]"
   ]
  },
  {
   "cell_type": "markdown",
   "metadata": {},
   "source": [
    "### Selection Linear Discriminant for new feature Subspace"
   ]
  },
  {
   "cell_type": "markdown",
   "metadata": {},
   "source": [
    "The reamining stpes are similar to PCA, but here we perform Eigen Decompision of $S_w^{-1} S_b$"
   ]
  },
  {
   "cell_type": "code",
   "execution_count": 144,
   "metadata": {},
   "outputs": [],
   "source": [
    "eigen_vals, eigen_vecs = np.linalg.eig(np.linalg.inv(S_W).dot(S_B))"
   ]
  },
  {
   "cell_type": "code",
   "execution_count": null,
   "metadata": {},
   "outputs": [],
   "source": []
  },
  {
   "cell_type": "code",
   "execution_count": 154,
   "metadata": {},
   "outputs": [],
   "source": [
    "eigen_pairs = [(np.abs(eigen_vals[i]), eigen_vecs[:,i]) for i in range(len(eigen_vals))]"
   ]
  },
  {
   "cell_type": "code",
   "execution_count": 155,
   "metadata": {},
   "outputs": [
    {
     "data": {
      "text/plain": [
       "13"
      ]
     },
     "execution_count": 155,
     "metadata": {},
     "output_type": "execute_result"
    }
   ],
   "source": [
    "len(eigen_vals)"
   ]
  },
  {
   "cell_type": "code",
   "execution_count": 156,
   "metadata": {},
   "outputs": [
    {
     "name": "stdout",
     "output_type": "stream",
     "text": [
      "(2.902486757115975e-14, array([ 0.22731966+0.j,  0.22003265+0.j,  0.15103972+0.j, -0.299112  +0.j,\n",
      "        0.00683352+0.j, -0.43167983+0.j, -0.35418733+0.j,  0.0360264 +0.j,\n",
      "        0.07025721+0.j,  0.02369164+0.j,  0.22918392+0.j,  0.61443272+0.j,\n",
      "       -0.19733088+0.j]))\n"
     ]
    },
    {
     "data": {
      "text/plain": [
       "13"
      ]
     },
     "execution_count": 156,
     "metadata": {},
     "output_type": "execute_result"
    }
   ],
   "source": [
    "print(eigen_pairs[3])\n",
    "len(eigen_pairs)"
   ]
  },
  {
   "cell_type": "code",
   "execution_count": 157,
   "metadata": {},
   "outputs": [],
   "source": [
    "#sorting"
   ]
  },
  {
   "cell_type": "code",
   "execution_count": 159,
   "metadata": {},
   "outputs": [],
   "source": [
    "eigen_pairs = sorted(eigen_pairs, key = lambda k: k[0], reverse=True)"
   ]
  },
  {
   "cell_type": "code",
   "execution_count": 160,
   "metadata": {},
   "outputs": [],
   "source": [
    "#print eigen values in desnceidn order"
   ]
  },
  {
   "cell_type": "code",
   "execution_count": 161,
   "metadata": {},
   "outputs": [
    {
     "name": "stdout",
     "output_type": "stream",
     "text": [
      "349.617808905994\n",
      "172.76152218979385\n",
      "2.902486757115975e-14\n",
      "2.842170943040401e-14\n",
      "1.8792598864684247e-14\n",
      "1.8792598864684247e-14\n",
      "1.570137094529844e-14\n",
      "1.570137094529844e-14\n",
      "6.116988201454594e-15\n",
      "5.6936028514646926e-15\n",
      "5.6936028514646926e-15\n",
      "4.663614910753138e-15\n",
      "1.3177428408410096e-15\n"
     ]
    }
   ],
   "source": [
    "for eigen in eigen_pairs:\n",
    "    print(eigen[0])"
   ]
  },
  {
   "cell_type": "code",
   "execution_count": 162,
   "metadata": {},
   "outputs": [],
   "source": [
    "#plotting"
   ]
  },
  {
   "cell_type": "code",
   "execution_count": 163,
   "metadata": {},
   "outputs": [],
   "source": [
    "tot = sum(eigen_vals.real)"
   ]
  },
  {
   "cell_type": "code",
   "execution_count": 164,
   "metadata": {},
   "outputs": [
    {
     "data": {
      "text/plain": [
       "522.3793310957878"
      ]
     },
     "execution_count": 164,
     "metadata": {},
     "output_type": "execute_result"
    }
   ],
   "source": [
    "tot"
   ]
  },
  {
   "cell_type": "code",
   "execution_count": 165,
   "metadata": {},
   "outputs": [],
   "source": [
    "dicr = [(i / tot) for i in sorted(eigen_vals.real, reverse=True)]"
   ]
  },
  {
   "cell_type": "code",
   "execution_count": 166,
   "metadata": {},
   "outputs": [
    {
     "data": {
      "text/plain": [
       "[0.669279560071042,\n",
       " 0.33072043992895817,\n",
       " 5.4408181446965336e-17,\n",
       " 1.1709858789058658e-17,\n",
       " 1.1665609687545831e-17,\n",
       " 1.1665609687545831e-17,\n",
       " 2.5225784452014953e-18,\n",
       " 2.4586037157750804e-18,\n",
       " 2.4586037157750804e-18,\n",
       " -8.927640572934495e-18,\n",
       " -2.8927778272842606e-17,\n",
       " -2.8927778272842606e-17,\n",
       " -5.55628177521394e-17]"
      ]
     },
     "execution_count": 166,
     "metadata": {},
     "output_type": "execute_result"
    }
   ],
   "source": [
    "dicr"
   ]
  },
  {
   "cell_type": "code",
   "execution_count": 170,
   "metadata": {},
   "outputs": [
    {
     "data": {
      "text/plain": [
       "[<matplotlib.lines.Line2D at 0x7f8e967b3ca0>]"
      ]
     },
     "execution_count": 170,
     "metadata": {},
     "output_type": "execute_result"
    },
    {
     "data": {
      "image/png": "[encoded data removed]",
      "text/plain": [
       "<Figure size 432x288 with 1 Axes>"
      ]
     },
     "metadata": {
      "needs_background": "light"
     },
     "output_type": "display_data"
    }
   ],
   "source": [
    "plt.bar(range(1,14), dicr, alpha =0.5)\n",
    "plt.step(range(1,14), np.cumsum(dicr), where ='mid')"
   ]
  },
  {
   "cell_type": "code",
   "execution_count": 171,
   "metadata": {},
   "outputs": [],
   "source": [
    "# Creating a Transoformation Matrix W"
   ]
  },
  {
   "cell_type": "code",
   "execution_count": 180,
   "metadata": {},
   "outputs": [],
   "source": [
    "w = np.hstack((eigen_pairs[0][1][:, np.newaxis].real, eigen_pairs[1][1][:, np.newaxis].real))"
   ]
  },
  {
   "cell_type": "markdown",
   "metadata": {},
   "source": [
    "##### projection Samples onto new feature Space"
   ]
  },
  {
   "cell_type": "code",
   "execution_count": 186,
   "metadata": {},
   "outputs": [],
   "source": [
    "X_train_lda = X_train_std.dot(w)"
   ]
  },
  {
   "cell_type": "code",
   "execution_count": 187,
   "metadata": {},
   "outputs": [
    {
     "data": {
      "text/plain": [
       "array([[ 1.31763265, -0.64040545],\n",
       "       [-1.41851098, -1.21538078],\n",
       "       [-1.32931351, -0.5900629 ],\n",
       "       [-1.1433159 , -0.89422092],\n",
       "       [ 1.56039117, -0.60052187],\n",
       "       [-0.01855385,  1.6348451 ],\n",
       "       [ 0.12421636,  2.06641481],\n",
       "       [ 1.5213944 , -0.16281012],\n",
       "       [ 0.42145823,  1.00594544],\n",
       "       [ 0.68566013,  2.15809678],\n",
       "       [ 0.24224191,  0.99645293],\n",
       "       [-1.92083786, -1.30142298],\n",
       "       [ 0.88133143,  0.36009543],\n",
       "       [ 2.31935736, -0.78765834],\n",
       "       [-0.81835994, -0.5614682 ],\n",
       "       [ 1.96281626, -1.42495028],\n",
       "       [-0.06022847,  2.88390278],\n",
       "       [-1.3370752 , -0.24372414],\n",
       "       [ 1.75602919, -1.95416927],\n",
       "       [ 1.52980539, -0.67166212],\n",
       "       [ 0.27544361,  2.12909038],\n",
       "       [-1.40166675, -1.20956193],\n",
       "       [-0.80541307,  1.26195356],\n",
       "       [ 0.26386457,  1.14490582],\n",
       "       [-0.45902818,  1.28427592],\n",
       "       [-0.77648089,  1.85028943],\n",
       "       [ 1.88968672, -0.97453859],\n",
       "       [-1.70110193, -1.8852883 ],\n",
       "       [-0.39981944,  1.54356595],\n",
       "       [ 0.81756814,  0.30484198],\n",
       "       [-1.23493102, -0.15403383],\n",
       "       [-1.42632207, -1.61784043],\n",
       "       [ 1.73910359, -0.72623748],\n",
       "       [-0.88835546, -0.25518176],\n",
       "       [-0.31903018,  1.69487073],\n",
       "       [-1.60049066, -1.27716337],\n",
       "       [-1.48580904, -0.74835412],\n",
       "       [-0.21851223,  0.93621573],\n",
       "       [ 1.61693793, -0.07924886],\n",
       "       [ 2.05590094, -1.11340414],\n",
       "       [-1.55554994, -1.07447391],\n",
       "       [ 1.30893789, -1.04439147],\n",
       "       [ 1.76085897, -1.82014775],\n",
       "       [ 2.02688649, -1.24970632],\n",
       "       [-1.58789821, -1.01567205],\n",
       "       [ 0.01567398,  2.13259424],\n",
       "       [ 1.23747522, -0.86968833],\n",
       "       [ 2.1821304 , -1.66345527],\n",
       "       [ 0.13443354,  1.08645596],\n",
       "       [ 1.39377109, -0.70832621],\n",
       "       [-0.05001704,  1.34931821],\n",
       "       [ 0.01309642,  0.99492124],\n",
       "       [-0.27901742,  1.42637186],\n",
       "       [-1.07504424, -0.74458652],\n",
       "       [-0.51441554,  2.35013107],\n",
       "       [ 0.2097887 ,  1.9788573 ],\n",
       "       [ 2.02356827, -1.35330155],\n",
       "       [ 1.77935409, -0.30114032],\n",
       "       [ 1.12610201,  0.67017459],\n",
       "       [-1.96872323, -0.50351324],\n",
       "       [-1.46136332, -1.23575783],\n",
       "       [-0.06116815,  0.750604  ],\n",
       "       [ 2.01403143, -1.47285615],\n",
       "       [ 1.63081475, -1.31484428],\n",
       "       [ 0.43636098,  1.77561685],\n",
       "       [-1.58397732, -1.01769906],\n",
       "       [-0.01059359,  1.74484367],\n",
       "       [-0.09154135,  1.89553971],\n",
       "       [-0.70674223,  1.02297028],\n",
       "       [-1.21973927, -0.93240843],\n",
       "       [-1.27861914, -1.49917466],\n",
       "       [-0.46732885, -0.2057709 ],\n",
       "       [-1.88397062, -1.86597745],\n",
       "       [-1.27913963, -0.81352705],\n",
       "       [ 1.62926477, -0.18848919],\n",
       "       [-0.57715593, -0.29654342],\n",
       "       [-0.83974087,  1.17473897],\n",
       "       [ 2.01732578, -1.53314922],\n",
       "       [-0.24360244,  0.7643938 ],\n",
       "       [-0.25762348,  1.91497667],\n",
       "       [ 1.01462714, -0.33087941],\n",
       "       [-2.22398876, -1.19746279],\n",
       "       [-0.45471674,  1.38779443],\n",
       "       [-1.40683003, -0.51788664],\n",
       "       [-0.03173085,  0.93487309],\n",
       "       [ 0.30610441, -0.37179543],\n",
       "       [ 1.9570782 , -1.89279787],\n",
       "       [ 0.92150153,  0.21775802],\n",
       "       [-1.21449873,  0.01659003],\n",
       "       [-1.60453131, -1.2635584 ],\n",
       "       [-2.05641253, -1.12608006],\n",
       "       [ 2.05167624, -0.27714528],\n",
       "       [ 0.61479017,  1.3248023 ],\n",
       "       [-1.77063863, -1.1882953 ],\n",
       "       [-2.29343299, -1.96222836],\n",
       "       [-0.11140748,  1.75107107],\n",
       "       [ 0.52327947,  0.73863142],\n",
       "       [ 1.38334635, -1.21789288],\n",
       "       [ 2.14899748, -1.11206534],\n",
       "       [-1.49597041,  1.76254353],\n",
       "       [-0.94023049, -0.41192371],\n",
       "       [-1.35609884, -0.26009168],\n",
       "       [ 0.5526149 ,  1.98186637],\n",
       "       [ 0.65820103,  1.76378209],\n",
       "       [ 1.74372832, -0.31778657],\n",
       "       [-1.47918812, -0.26657715],\n",
       "       [ 2.16832926, -0.85455465],\n",
       "       [-1.8322229 , -1.05998503],\n",
       "       [-0.28714126,  0.82150533],\n",
       "       [ 0.22361923,  1.73975161],\n",
       "       [ 0.06105548,  1.97311259],\n",
       "       [-0.2956933 ,  1.40211166],\n",
       "       [-0.85623638, -0.63329951],\n",
       "       [ 1.43679255, -0.54079492],\n",
       "       [-1.30220437, -0.7277335 ],\n",
       "       [-1.58386785, -1.20093942],\n",
       "       [-2.24713156, -1.96448177],\n",
       "       [-1.03251853, -0.73009918],\n",
       "       [ 0.22073645,  1.06313518],\n",
       "       [ 0.19308813,  1.71789476],\n",
       "       [ 1.79291743, -1.19098387],\n",
       "       [ 1.99763437, -1.06321089],\n",
       "       [-0.08608191,  1.07443258],\n",
       "       [-0.17193051,  1.53453311]])"
      ]
     },
     "execution_count": 187,
     "metadata": {},
     "output_type": "execute_result"
    }
   ],
   "source": [
    "X_train_lda"
   ]
  },
  {
   "cell_type": "code",
   "execution_count": 190,
   "metadata": {},
   "outputs": [
    {
     "data": {
      "image/png": "[encoded data removed]",
      "text/plain": [
       "<Figure size 432x288 with 1 Axes>"
      ]
     },
     "metadata": {
      "needs_background": "light"
     },
     "output_type": "display_data"
    }
   ],
   "source": [
    "for l,c,m in zip(np.unique(y_train), colors, markers):\n",
    "    plt.scatter(X_train_lda[y_train==l, 0],\n",
    "               X_train_lda[y_train ==l,1] * (-1),\n",
    "               c=c, label =1, marker =m)"
   ]
  },
  {
   "cell_type": "markdown",
   "metadata": {},
   "source": [
    "# LDA via Scikit Learn"
   ]
  },
  {
   "cell_type": "code",
   "execution_count": 192,
   "metadata": {},
   "outputs": [],
   "source": [
    "from sklearn.discriminant_analysis import LinearDiscriminantAnalysis as LDA"
   ]
  },
  {
   "cell_type": "code",
   "execution_count": 194,
   "metadata": {},
   "outputs": [],
   "source": [
    "lda = LDA(n_components=2)"
   ]
  },
  {
   "cell_type": "code",
   "execution_count": 195,
   "metadata": {},
   "outputs": [],
   "source": [
    "X_train_lda = lda.fit_transform(X_train_std, y_train)"
   ]
  },
  {
   "cell_type": "code",
   "execution_count": 196,
   "metadata": {},
   "outputs": [],
   "source": [
    "lr = LogisticRegression()"
   ]
  },
  {
   "cell_type": "code",
   "execution_count": 197,
   "metadata": {},
   "outputs": [
    {
     "data": {
      "text/plain": [
       "LogisticRegression(C=1.0, class_weight=None, dual=False, fit_intercept=True,\n",
       "                   intercept_scaling=1, l1_ratio=None, max_iter=100,\n",
       "                   multi_class='auto', n_jobs=None, penalty='l2',\n",
       "                   random_state=None, solver='lbfgs', tol=0.0001, verbose=0,\n",
       "                   warm_start=False)"
      ]
     },
     "execution_count": 197,
     "metadata": {},
     "output_type": "execute_result"
    }
   ],
   "source": [
    "lr.fit(X_train_lda, y_train)"
   ]
  },
  {
   "cell_type": "code",
   "execution_count": 198,
   "metadata": {},
   "outputs": [
    {
     "data": {
      "image/png": "[encoded data removed]",
      "text/plain": [
       "<Figure size 432x288 with 1 Axes>"
      ]
     },
     "metadata": {
      "needs_background": "light"
     },
     "output_type": "display_data"
    }
   ],
   "source": [
    "plot_decision_regions(X_train_lda, y_train, classifier=lr)"
   ]
  },
  {
   "cell_type": "markdown",
   "metadata": {},
   "source": [
    "# kernel PCA for non Linear mappings"
   ]
  },
  {
   "cell_type": "code",
   "execution_count": null,
   "metadata": {},
   "outputs": [],
   "source": []
  }
 ],
 "metadata": {
  "kernelspec": {
   "display_name": "Python 3",
   "language": "python",
   "name": "python3"
  },
  "language_info": {
   "codemirror_mode": {
    "name": "ipython",
    "version": 3
   },
   "file_extension": ".py",
   "mimetype": "text/x-python",
   "name": "python",
   "nbconvert_exporter": "python",
   "pygments_lexer": "ipython3",
   "version": "3.8.1"
  }
 },
 "nbformat": 4,
 "nbformat_minor": 4
}
