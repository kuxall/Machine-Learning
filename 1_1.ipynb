{
  "nbformat": 4,
  "nbformat_minor": 0,
  "metadata": {
    "kernelspec": {
      "name": "python3",
      "display_name": "Python 3"
    },
    "colab": {
      "name": "1.1.ipynb",
      "provenance": [],
      "include_colab_link": true
    },
    "language_info": {
      "name": "python"
    }
  },
  "cells": [
    {
      "cell_type": "markdown",
      "metadata": {
        "id": "view-in-github",
        "colab_type": "text"
      },
      "source": [
        "<a href=\"https://colab.research.google.com/github/prajinkhadka/Machine-Learning/blob/master/1_1.ipynb\" target=\"_parent\"><img src=\"https://colab.research.google.com/assets/colab-badge.svg\" alt=\"Open In Colab\"/></a>"
      ]
    },
    {
      "cell_type": "markdown",
      "metadata": {
        "id": "XP2V7Ds3x9lJ"
      },
      "source": [
        "# Python Keywords"
      ]
    },
    {
      "cell_type": "markdown",
      "metadata": {
        "id": "WWafYKulx9lO"
      },
      "source": [
        "Keywords are the reserved words in python\n",
        "\n",
        "We can't use a keyword as variable name, function name or any other identifier\n",
        "\n",
        "Keywords are case sentive"
      ]
    },
    {
      "cell_type": "code",
      "metadata": {
        "id": "bmp-yw_cx9lP",
        "colab": {
          "base_uri": "https://localhost:8080/"
        },
        "outputId": "c4da21f0-296c-4a79-9dbd-1200c44c1ebc"
      },
      "source": [
        "import keyword\n",
        "\n",
        "#print(keyword.kwlist)\n",
        "\"Total number of keywords \", keyword.kwlist"
      ],
      "execution_count": null,
      "outputs": [
        {
          "output_type": "execute_result",
          "data": {
            "text/plain": [
              "('Total number of keywords ',\n",
              " ['False',\n",
              "  'None',\n",
              "  'True',\n",
              "  'and',\n",
              "  'as',\n",
              "  'assert',\n",
              "  'async',\n",
              "  'await',\n",
              "  'break',\n",
              "  'class',\n",
              "  'continue',\n",
              "  'def',\n",
              "  'del',\n",
              "  'elif',\n",
              "  'else',\n",
              "  'except',\n",
              "  'finally',\n",
              "  'for',\n",
              "  'from',\n",
              "  'global',\n",
              "  'if',\n",
              "  'import',\n",
              "  'in',\n",
              "  'is',\n",
              "  'lambda',\n",
              "  'nonlocal',\n",
              "  'not',\n",
              "  'or',\n",
              "  'pass',\n",
              "  'raise',\n",
              "  'return',\n",
              "  'try',\n",
              "  'while',\n",
              "  'with',\n",
              "  'yield'])"
            ]
          },
          "metadata": {
            "tags": []
          },
          "execution_count": 1
        }
      ]
    },
    {
      "cell_type": "markdown",
      "metadata": {
        "collapsed": true,
        "id": "4wpq4Uomx9lW"
      },
      "source": [
        "# Identifiers"
      ]
    },
    {
      "cell_type": "markdown",
      "metadata": {
        "id": "VtGncKb3x9lY"
      },
      "source": [
        "Identifier is the name given to entities like class, functions, variables etc. in Python. It helps differentiating one entity from another."
      ]
    },
    {
      "cell_type": "markdown",
      "metadata": {
        "id": "YHO424Knx9lZ"
      },
      "source": [
        "Rules for Writing Identifiers:\n",
        "\n",
        "1. Identifiers can be a combination of letters in lowercase (a to z) or uppercase (A to Z) or digits (0 to 9) or an underscore (_).\n",
        "\n",
        "2. An identifier cannot start with a digit. 1variable is invalid, but variable1 is perfectly fine.\n",
        "\n",
        "3. Keywords cannot be used as identifiers."
      ]
    },
    {
      "cell_type": "code",
      "metadata": {
        "id": "tZQPhTryx9la",
        "colab": {
          "base_uri": "https://localhost:8080/",
          "height": 132
        },
        "outputId": "bc5a9310-c8cd-474d-f9a0-b887dbd68b95"
      },
      "source": [
        "global = 1"
      ],
      "execution_count": null,
      "outputs": [
        {
          "output_type": "error",
          "ename": "SyntaxError",
          "evalue": "ignored",
          "traceback": [
            "\u001b[0;36m  File \u001b[0;32m\"<ipython-input-2-3d177345d6e4>\"\u001b[0;36m, line \u001b[0;32m1\u001b[0m\n\u001b[0;31m    global = 1\u001b[0m\n\u001b[0m           ^\u001b[0m\n\u001b[0;31mSyntaxError\u001b[0m\u001b[0;31m:\u001b[0m invalid syntax\n"
          ]
        }
      ]
    },
    {
      "cell_type": "markdown",
      "metadata": {
        "id": "v-YqWZVHx9le"
      },
      "source": [
        " We cannot use special symbols like !, @, #, $, % etc. in our identifier."
      ]
    },
    {
      "cell_type": "code",
      "metadata": {
        "id": "FTqhcbK5x9lg"
      },
      "source": [
        "a_bc12 = 10           "
      ],
      "execution_count": null,
      "outputs": []
    },
    {
      "cell_type": "code",
      "metadata": {
        "id": "7g1fX0AOtYeo"
      },
      "source": [
        "\n",
        "abc12 = 10           "
      ],
      "execution_count": null,
      "outputs": []
    },
    {
      "cell_type": "code",
      "metadata": {
        "id": "44TsloZ3uVJG"
      },
      "source": [
        ""
      ],
      "execution_count": null,
      "outputs": []
    }
  ]
}